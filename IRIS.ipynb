{
 "cells": [
  {
   "cell_type": "code",
   "execution_count": 2,
   "metadata": {},
   "outputs": [],
   "source": [
    "import pandas as pd\n",
    "import numpy as np\n",
    "\n",
    "import seaborn as sns\n",
    "import matplotlib.pyplot as plt\n",
    "\n",
    "from sklearn.tree import DecisionTreeClassifier\n",
    "from sklearn import metrics\n",
    "\n",
    "from sklearn.metrics import accuracy_score\n",
    "\n",
    "from sklearn.model_selection import train_test_split\n",
    "from sklearn import preprocessing\n",
    "\n",
    "from sklearn.metrics import classification_report, confusion_matrix\n",
    "\n",
    "import time"
   ]
  },
  {
   "cell_type": "code",
   "execution_count": 3,
   "metadata": {},
   "outputs": [],
   "source": [
    "iris = pd.read_csv('Iris.csv')"
   ]
  },
  {
   "cell_type": "code",
   "execution_count": 4,
   "metadata": {},
   "outputs": [
    {
     "data": {
      "text/html": [
       "<div>\n",
       "<style scoped>\n",
       "    .dataframe tbody tr th:only-of-type {\n",
       "        vertical-align: middle;\n",
       "    }\n",
       "\n",
       "    .dataframe tbody tr th {\n",
       "        vertical-align: top;\n",
       "    }\n",
       "\n",
       "    .dataframe thead th {\n",
       "        text-align: right;\n",
       "    }\n",
       "</style>\n",
       "<table border=\"1\" class=\"dataframe\">\n",
       "  <thead>\n",
       "    <tr style=\"text-align: right;\">\n",
       "      <th></th>\n",
       "      <th>Id</th>\n",
       "      <th>SepalLengthCm</th>\n",
       "      <th>SepalWidthCm</th>\n",
       "      <th>PetalLengthCm</th>\n",
       "      <th>PetalWidthCm</th>\n",
       "      <th>Species</th>\n",
       "    </tr>\n",
       "  </thead>\n",
       "  <tbody>\n",
       "    <tr>\n",
       "      <th>0</th>\n",
       "      <td>1.0</td>\n",
       "      <td>5.1</td>\n",
       "      <td>3.5</td>\n",
       "      <td>1.4</td>\n",
       "      <td>0.2</td>\n",
       "      <td>Iris-setosa</td>\n",
       "    </tr>\n",
       "    <tr>\n",
       "      <th>1</th>\n",
       "      <td>2.0</td>\n",
       "      <td>4.9</td>\n",
       "      <td>NaN</td>\n",
       "      <td>1.4</td>\n",
       "      <td>0.2</td>\n",
       "      <td>Iris-setosa</td>\n",
       "    </tr>\n",
       "    <tr>\n",
       "      <th>2</th>\n",
       "      <td>3.0</td>\n",
       "      <td>4.7</td>\n",
       "      <td>3.2</td>\n",
       "      <td>1.3</td>\n",
       "      <td>0.2</td>\n",
       "      <td>Iris-setosa</td>\n",
       "    </tr>\n",
       "    <tr>\n",
       "      <th>3</th>\n",
       "      <td>NaN</td>\n",
       "      <td>4.6</td>\n",
       "      <td>3.1</td>\n",
       "      <td>1.5</td>\n",
       "      <td>0.2</td>\n",
       "      <td>Iris-setosa</td>\n",
       "    </tr>\n",
       "    <tr>\n",
       "      <th>4</th>\n",
       "      <td>5.0</td>\n",
       "      <td>5.0</td>\n",
       "      <td>NaN</td>\n",
       "      <td>1.4</td>\n",
       "      <td>0.2</td>\n",
       "      <td>Iris-setosa</td>\n",
       "    </tr>\n",
       "  </tbody>\n",
       "</table>\n",
       "</div>"
      ],
      "text/plain": [
       "    Id  SepalLengthCm  SepalWidthCm  PetalLengthCm  PetalWidthCm      Species\n",
       "0  1.0            5.1           3.5            1.4           0.2  Iris-setosa\n",
       "1  2.0            4.9           NaN            1.4           0.2  Iris-setosa\n",
       "2  3.0            4.7           3.2            1.3           0.2  Iris-setosa\n",
       "3  NaN            4.6           3.1            1.5           0.2  Iris-setosa\n",
       "4  5.0            5.0           NaN            1.4           0.2  Iris-setosa"
      ]
     },
     "execution_count": 4,
     "metadata": {},
     "output_type": "execute_result"
    }
   ],
   "source": [
    "iris.head()"
   ]
  },
  {
   "cell_type": "code",
   "execution_count": 5,
   "metadata": {},
   "outputs": [
    {
     "name": "stdout",
     "output_type": "stream",
     "text": [
      "<class 'pandas.core.frame.DataFrame'>\n",
      "RangeIndex: 150 entries, 0 to 149\n",
      "Data columns (total 6 columns):\n",
      " #   Column         Non-Null Count  Dtype  \n",
      "---  ------         --------------  -----  \n",
      " 0   Id             137 non-null    float64\n",
      " 1   SepalLengthCm  141 non-null    float64\n",
      " 2   SepalWidthCm   144 non-null    float64\n",
      " 3   PetalLengthCm  143 non-null    float64\n",
      " 4   PetalWidthCm   142 non-null    float64\n",
      " 5   Species        150 non-null    object \n",
      "dtypes: float64(5), object(1)\n",
      "memory usage: 7.2+ KB\n"
     ]
    }
   ],
   "source": [
    "iris.info()"
   ]
  },
  {
   "cell_type": "code",
   "execution_count": 6,
   "metadata": {},
   "outputs": [],
   "source": [
    "iris.rename(columns={'SepalLengthCm':'SepalLength',\n",
    "                     'SepalWidthCm':'SepalWidth',\n",
    "                     'PetalWidthCm':'PetalWidth',\n",
    "                     'PetalLengthCm':'PetalLength'},inplace=True)"
   ]
  },
  {
   "cell_type": "code",
   "execution_count": 7,
   "metadata": {},
   "outputs": [
    {
     "data": {
      "text/html": [
       "<div>\n",
       "<style scoped>\n",
       "    .dataframe tbody tr th:only-of-type {\n",
       "        vertical-align: middle;\n",
       "    }\n",
       "\n",
       "    .dataframe tbody tr th {\n",
       "        vertical-align: top;\n",
       "    }\n",
       "\n",
       "    .dataframe thead th {\n",
       "        text-align: right;\n",
       "    }\n",
       "</style>\n",
       "<table border=\"1\" class=\"dataframe\">\n",
       "  <thead>\n",
       "    <tr style=\"text-align: right;\">\n",
       "      <th></th>\n",
       "      <th>SepalLength</th>\n",
       "      <th>SepalWidth</th>\n",
       "      <th>PetalLength</th>\n",
       "      <th>PetalWidth</th>\n",
       "      <th>Species</th>\n",
       "    </tr>\n",
       "  </thead>\n",
       "  <tbody>\n",
       "    <tr>\n",
       "      <th>0</th>\n",
       "      <td>5.1</td>\n",
       "      <td>3.5</td>\n",
       "      <td>1.4</td>\n",
       "      <td>0.2</td>\n",
       "      <td>Iris-setosa</td>\n",
       "    </tr>\n",
       "    <tr>\n",
       "      <th>1</th>\n",
       "      <td>4.9</td>\n",
       "      <td>NaN</td>\n",
       "      <td>1.4</td>\n",
       "      <td>0.2</td>\n",
       "      <td>Iris-setosa</td>\n",
       "    </tr>\n",
       "    <tr>\n",
       "      <th>2</th>\n",
       "      <td>4.7</td>\n",
       "      <td>3.2</td>\n",
       "      <td>1.3</td>\n",
       "      <td>0.2</td>\n",
       "      <td>Iris-setosa</td>\n",
       "    </tr>\n",
       "    <tr>\n",
       "      <th>3</th>\n",
       "      <td>4.6</td>\n",
       "      <td>3.1</td>\n",
       "      <td>1.5</td>\n",
       "      <td>0.2</td>\n",
       "      <td>Iris-setosa</td>\n",
       "    </tr>\n",
       "    <tr>\n",
       "      <th>4</th>\n",
       "      <td>5.0</td>\n",
       "      <td>NaN</td>\n",
       "      <td>1.4</td>\n",
       "      <td>0.2</td>\n",
       "      <td>Iris-setosa</td>\n",
       "    </tr>\n",
       "  </tbody>\n",
       "</table>\n",
       "</div>"
      ],
      "text/plain": [
       "   SepalLength  SepalWidth  PetalLength  PetalWidth      Species\n",
       "0          5.1         3.5          1.4         0.2  Iris-setosa\n",
       "1          4.9         NaN          1.4         0.2  Iris-setosa\n",
       "2          4.7         3.2          1.3         0.2  Iris-setosa\n",
       "3          4.6         3.1          1.5         0.2  Iris-setosa\n",
       "4          5.0         NaN          1.4         0.2  Iris-setosa"
      ]
     },
     "execution_count": 7,
     "metadata": {},
     "output_type": "execute_result"
    }
   ],
   "source": [
    "iris.drop(\"Id\", axis=1, inplace=True)\n",
    "iris.head()"
   ]
  },
  {
   "cell_type": "code",
   "execution_count": 8,
   "metadata": {},
   "outputs": [
    {
     "name": "stdout",
     "output_type": "stream",
     "text": [
      "<class 'pandas.core.frame.DataFrame'>\n",
      "RangeIndex: 150 entries, 0 to 149\n",
      "Data columns (total 5 columns):\n",
      " #   Column       Non-Null Count  Dtype  \n",
      "---  ------       --------------  -----  \n",
      " 0   SepalLength  141 non-null    float64\n",
      " 1   SepalWidth   144 non-null    float64\n",
      " 2   PetalLength  143 non-null    float64\n",
      " 3   PetalWidth   142 non-null    float64\n",
      " 4   Species      150 non-null    object \n",
      "dtypes: float64(4), object(1)\n",
      "memory usage: 6.0+ KB\n"
     ]
    }
   ],
   "source": [
    "iris.info()"
   ]
  },
  {
   "cell_type": "markdown",
   "metadata": {},
   "source": [
    "# Handling the missing data"
   ]
  },
  {
   "cell_type": "code",
   "execution_count": 9,
   "metadata": {},
   "outputs": [],
   "source": [
    "avg_sepal_length = iris.SepalLength.mean()\n",
    "iris.SepalLength.fillna(avg_sepal_length, inplace = True)"
   ]
  },
  {
   "cell_type": "code",
   "execution_count": 10,
   "metadata": {},
   "outputs": [],
   "source": [
    "avg_sepal_width = iris.SepalWidth.mean()\n",
    "iris.SepalWidth.fillna(avg_sepal_width, inplace = True)"
   ]
  },
  {
   "cell_type": "code",
   "execution_count": 11,
   "metadata": {},
   "outputs": [],
   "source": [
    "avg_petal_length = iris.PetalLength.mean()\n",
    "iris.PetalLength.fillna(avg_petal_length, inplace = True)"
   ]
  },
  {
   "cell_type": "code",
   "execution_count": 12,
   "metadata": {},
   "outputs": [],
   "source": [
    "avg_petal_width = iris.PetalWidth.mean()\n",
    "iris.PetalWidth.fillna(avg_petal_width, inplace = True)"
   ]
  },
  {
   "cell_type": "code",
   "execution_count": 13,
   "metadata": {},
   "outputs": [
    {
     "name": "stdout",
     "output_type": "stream",
     "text": [
      "<class 'pandas.core.frame.DataFrame'>\n",
      "RangeIndex: 150 entries, 0 to 149\n",
      "Data columns (total 5 columns):\n",
      " #   Column       Non-Null Count  Dtype  \n",
      "---  ------       --------------  -----  \n",
      " 0   SepalLength  150 non-null    float64\n",
      " 1   SepalWidth   150 non-null    float64\n",
      " 2   PetalLength  150 non-null    float64\n",
      " 3   PetalWidth   150 non-null    float64\n",
      " 4   Species      150 non-null    object \n",
      "dtypes: float64(4), object(1)\n",
      "memory usage: 6.0+ KB\n"
     ]
    }
   ],
   "source": [
    "iris.info()"
   ]
  },
  {
   "cell_type": "code",
   "execution_count": 14,
   "metadata": {},
   "outputs": [
    {
     "data": {
      "text/plain": [
       "(150, 5)"
      ]
     },
     "execution_count": 14,
     "metadata": {},
     "output_type": "execute_result"
    }
   ],
   "source": [
    "iris.shape"
   ]
  },
  {
   "cell_type": "code",
   "execution_count": 15,
   "metadata": {},
   "outputs": [
    {
     "data": {
      "text/html": [
       "<div>\n",
       "<style scoped>\n",
       "    .dataframe tbody tr th:only-of-type {\n",
       "        vertical-align: middle;\n",
       "    }\n",
       "\n",
       "    .dataframe tbody tr th {\n",
       "        vertical-align: top;\n",
       "    }\n",
       "\n",
       "    .dataframe thead th {\n",
       "        text-align: right;\n",
       "    }\n",
       "</style>\n",
       "<table border=\"1\" class=\"dataframe\">\n",
       "  <thead>\n",
       "    <tr style=\"text-align: right;\">\n",
       "      <th></th>\n",
       "      <th>SepalLength</th>\n",
       "      <th>SepalWidth</th>\n",
       "      <th>PetalLength</th>\n",
       "      <th>PetalWidth</th>\n",
       "    </tr>\n",
       "  </thead>\n",
       "  <tbody>\n",
       "    <tr>\n",
       "      <th>count</th>\n",
       "      <td>150.000000</td>\n",
       "      <td>150.000000</td>\n",
       "      <td>150.000000</td>\n",
       "      <td>150.000000</td>\n",
       "    </tr>\n",
       "    <tr>\n",
       "      <th>mean</th>\n",
       "      <td>5.832624</td>\n",
       "      <td>3.047917</td>\n",
       "      <td>3.767832</td>\n",
       "      <td>1.221127</td>\n",
       "    </tr>\n",
       "    <tr>\n",
       "      <th>std</th>\n",
       "      <td>0.811701</td>\n",
       "      <td>0.411572</td>\n",
       "      <td>1.714236</td>\n",
       "      <td>0.744269</td>\n",
       "    </tr>\n",
       "    <tr>\n",
       "      <th>min</th>\n",
       "      <td>4.300000</td>\n",
       "      <td>2.000000</td>\n",
       "      <td>1.000000</td>\n",
       "      <td>0.100000</td>\n",
       "    </tr>\n",
       "    <tr>\n",
       "      <th>25%</th>\n",
       "      <td>5.100000</td>\n",
       "      <td>2.800000</td>\n",
       "      <td>1.600000</td>\n",
       "      <td>0.400000</td>\n",
       "    </tr>\n",
       "    <tr>\n",
       "      <th>50%</th>\n",
       "      <td>5.800000</td>\n",
       "      <td>3.000000</td>\n",
       "      <td>4.200000</td>\n",
       "      <td>1.300000</td>\n",
       "    </tr>\n",
       "    <tr>\n",
       "      <th>75%</th>\n",
       "      <td>6.375000</td>\n",
       "      <td>3.300000</td>\n",
       "      <td>5.100000</td>\n",
       "      <td>1.800000</td>\n",
       "    </tr>\n",
       "    <tr>\n",
       "      <th>max</th>\n",
       "      <td>7.900000</td>\n",
       "      <td>4.200000</td>\n",
       "      <td>6.900000</td>\n",
       "      <td>2.500000</td>\n",
       "    </tr>\n",
       "  </tbody>\n",
       "</table>\n",
       "</div>"
      ],
      "text/plain": [
       "       SepalLength  SepalWidth  PetalLength  PetalWidth\n",
       "count   150.000000  150.000000   150.000000  150.000000\n",
       "mean      5.832624    3.047917     3.767832    1.221127\n",
       "std       0.811701    0.411572     1.714236    0.744269\n",
       "min       4.300000    2.000000     1.000000    0.100000\n",
       "25%       5.100000    2.800000     1.600000    0.400000\n",
       "50%       5.800000    3.000000     4.200000    1.300000\n",
       "75%       6.375000    3.300000     5.100000    1.800000\n",
       "max       7.900000    4.200000     6.900000    2.500000"
      ]
     },
     "execution_count": 15,
     "metadata": {},
     "output_type": "execute_result"
    }
   ],
   "source": [
    "iris.describe()"
   ]
  },
  {
   "cell_type": "code",
   "execution_count": 16,
   "metadata": {},
   "outputs": [
    {
     "data": {
      "text/plain": [
       "Iris-setosa        50\n",
       "Iris-virginica     50\n",
       "Iris-versicolor    50\n",
       "Name: Species, dtype: int64"
      ]
     },
     "execution_count": 16,
     "metadata": {},
     "output_type": "execute_result"
    }
   ],
   "source": [
    "iris.Species.value_counts()"
   ]
  },
  {
   "cell_type": "code",
   "execution_count": 17,
   "metadata": {},
   "outputs": [
    {
     "data": {
      "text/plain": [
       "Text(0, 0.5, 'Petal Length')"
      ]
     },
     "execution_count": 17,
     "metadata": {},
     "output_type": "execute_result"
    },
    {
     "data": {
      "image/png": "[encoded data removed]",
      "text/plain": [
       "<Figure size 432x288 with 1 Axes>"
      ]
     },
     "metadata": {
      "needs_background": "light"
     },
     "output_type": "display_data"
    }
   ],
   "source": [
    "plt.bar(iris['Species'], iris['PetalWidth'])\n",
    "plt.ylabel('Petal Length')"
   ]
  },
  {
   "cell_type": "code",
   "execution_count": 18,
   "metadata": {},
   "outputs": [
    {
     "data": {
      "text/plain": [
       "<seaborn.axisgrid.PairGrid at 0x1c95b199b20>"
      ]
     },
     "execution_count": 18,
     "metadata": {},
     "output_type": "execute_result"
    },
    {
     "data": {
      "image/png": "[encoded data removed]",
      "text/plain": [
       "<Figure size 720x720 with 20 Axes>"
      ]
     },
     "metadata": {
      "needs_background": "light"
     },
     "output_type": "display_data"
    }
   ],
   "source": [
    "sns.pairplot(iris)"
   ]
  },
  {
   "cell_type": "code",
   "execution_count": 19,
   "metadata": {},
   "outputs": [
    {
     "data": {
      "text/plain": [
       "[]"
      ]
     },
     "execution_count": 19,
     "metadata": {},
     "output_type": "execute_result"
    },
    {
     "data": {
      "image/png": "[encoded data removed]",
      "text/plain": [
       "<Figure size 720x792 with 2 Axes>"
      ]
     },
     "metadata": {
      "needs_background": "light"
     },
     "output_type": "display_data"
    }
   ],
   "source": [
    "plt.figure(figsize=(10,11))\n",
    "sns.heatmap(iris.corr(),annot=True)\n",
    "plt.plot()"
   ]
  },
  {
   "cell_type": "code",
   "execution_count": 20,
   "metadata": {},
   "outputs": [
    {
     "data": {
      "image/png": "[encoded data removed]",
      "text/plain": [
       "<Figure size 319.25x216 with 1 Axes>"
      ]
     },
     "metadata": {
      "needs_background": "light"
     },
     "output_type": "display_data"
    }
   ],
   "source": [
    "sns.FacetGrid(iris,hue='Species').map(plt.scatter,'SepalLength','SepalWidth').add_legend()\n",
    "plt.show()"
   ]
  },
  {
   "cell_type": "code",
   "execution_count": 21,
   "metadata": {},
   "outputs": [
    {
     "data": {
      "image/png": "[encoded data removed]",
      "text/plain": [
       "<Figure size 319.25x216 with 1 Axes>"
      ]
     },
     "metadata": {
      "needs_background": "light"
     },
     "output_type": "display_data"
    }
   ],
   "source": [
    "sns.FacetGrid(iris,hue='Species').map(plt.scatter,'PetalLength','PetalWidth').add_legend()\n",
    "plt.show()"
   ]
  },
  {
   "cell_type": "markdown",
   "metadata": {},
   "source": [
    "# Data Preprocessing"
   ]
  },
  {
   "cell_type": "code",
   "execution_count": 22,
   "metadata": {},
   "outputs": [],
   "source": [
    "#label_dict = {'Iris-setosa': 0, 'Iris-versicolor': 1, 'Iris-virginica': 2}"
   ]
  },
  {
   "cell_type": "code",
   "execution_count": 23,
   "metadata": {},
   "outputs": [],
   "source": [
    "#iris.replace({'Species': label_dict}, inplace = True)"
   ]
  },
  {
   "cell_type": "code",
   "execution_count": 24,
   "metadata": {},
   "outputs": [],
   "source": [
    "#iris.sort_values('Species')"
   ]
  },
  {
   "cell_type": "code",
   "execution_count": 25,
   "metadata": {},
   "outputs": [
    {
     "data": {
      "text/plain": [
       "Iris-setosa        50\n",
       "Iris-virginica     50\n",
       "Iris-versicolor    50\n",
       "Name: Species, dtype: int64"
      ]
     },
     "execution_count": 25,
     "metadata": {},
     "output_type": "execute_result"
    }
   ],
   "source": [
    "iris.Species.value_counts()"
   ]
  },
  {
   "cell_type": "code",
   "execution_count": 26,
   "metadata": {},
   "outputs": [
    {
     "data": {
      "text/html": [
       "<div>\n",
       "<style scoped>\n",
       "    .dataframe tbody tr th:only-of-type {\n",
       "        vertical-align: middle;\n",
       "    }\n",
       "\n",
       "    .dataframe tbody tr th {\n",
       "        vertical-align: top;\n",
       "    }\n",
       "\n",
       "    .dataframe thead th {\n",
       "        text-align: right;\n",
       "    }\n",
       "</style>\n",
       "<table border=\"1\" class=\"dataframe\">\n",
       "  <thead>\n",
       "    <tr style=\"text-align: right;\">\n",
       "      <th></th>\n",
       "      <th>SepalLength</th>\n",
       "      <th>SepalWidth</th>\n",
       "      <th>PetalLength</th>\n",
       "      <th>PetalWidth</th>\n",
       "    </tr>\n",
       "  </thead>\n",
       "  <tbody>\n",
       "    <tr>\n",
       "      <th>0</th>\n",
       "      <td>5.100000</td>\n",
       "      <td>3.500000</td>\n",
       "      <td>1.4</td>\n",
       "      <td>0.2</td>\n",
       "    </tr>\n",
       "    <tr>\n",
       "      <th>1</th>\n",
       "      <td>4.900000</td>\n",
       "      <td>3.047917</td>\n",
       "      <td>1.4</td>\n",
       "      <td>0.2</td>\n",
       "    </tr>\n",
       "    <tr>\n",
       "      <th>2</th>\n",
       "      <td>4.700000</td>\n",
       "      <td>3.200000</td>\n",
       "      <td>1.3</td>\n",
       "      <td>0.2</td>\n",
       "    </tr>\n",
       "    <tr>\n",
       "      <th>3</th>\n",
       "      <td>4.600000</td>\n",
       "      <td>3.100000</td>\n",
       "      <td>1.5</td>\n",
       "      <td>0.2</td>\n",
       "    </tr>\n",
       "    <tr>\n",
       "      <th>4</th>\n",
       "      <td>5.000000</td>\n",
       "      <td>3.047917</td>\n",
       "      <td>1.4</td>\n",
       "      <td>0.2</td>\n",
       "    </tr>\n",
       "    <tr>\n",
       "      <th>...</th>\n",
       "      <td>...</td>\n",
       "      <td>...</td>\n",
       "      <td>...</td>\n",
       "      <td>...</td>\n",
       "    </tr>\n",
       "    <tr>\n",
       "      <th>145</th>\n",
       "      <td>5.832624</td>\n",
       "      <td>3.000000</td>\n",
       "      <td>5.2</td>\n",
       "      <td>2.3</td>\n",
       "    </tr>\n",
       "    <tr>\n",
       "      <th>146</th>\n",
       "      <td>6.300000</td>\n",
       "      <td>2.500000</td>\n",
       "      <td>5.0</td>\n",
       "      <td>1.9</td>\n",
       "    </tr>\n",
       "    <tr>\n",
       "      <th>147</th>\n",
       "      <td>6.500000</td>\n",
       "      <td>3.000000</td>\n",
       "      <td>5.2</td>\n",
       "      <td>2.0</td>\n",
       "    </tr>\n",
       "    <tr>\n",
       "      <th>148</th>\n",
       "      <td>6.200000</td>\n",
       "      <td>3.400000</td>\n",
       "      <td>5.4</td>\n",
       "      <td>2.3</td>\n",
       "    </tr>\n",
       "    <tr>\n",
       "      <th>149</th>\n",
       "      <td>5.900000</td>\n",
       "      <td>3.000000</td>\n",
       "      <td>5.1</td>\n",
       "      <td>1.8</td>\n",
       "    </tr>\n",
       "  </tbody>\n",
       "</table>\n",
       "<p>150 rows × 4 columns</p>\n",
       "</div>"
      ],
      "text/plain": [
       "     SepalLength  SepalWidth  PetalLength  PetalWidth\n",
       "0       5.100000    3.500000          1.4         0.2\n",
       "1       4.900000    3.047917          1.4         0.2\n",
       "2       4.700000    3.200000          1.3         0.2\n",
       "3       4.600000    3.100000          1.5         0.2\n",
       "4       5.000000    3.047917          1.4         0.2\n",
       "..           ...         ...          ...         ...\n",
       "145     5.832624    3.000000          5.2         2.3\n",
       "146     6.300000    2.500000          5.0         1.9\n",
       "147     6.500000    3.000000          5.2         2.0\n",
       "148     6.200000    3.400000          5.4         2.3\n",
       "149     5.900000    3.000000          5.1         1.8\n",
       "\n",
       "[150 rows x 4 columns]"
      ]
     },
     "execution_count": 26,
     "metadata": {},
     "output_type": "execute_result"
    }
   ],
   "source": [
    "# Data\n",
    "X = iris.drop('Species', axis =1 )\n",
    "X"
   ]
  },
  {
   "cell_type": "code",
   "execution_count": 27,
   "metadata": {},
   "outputs": [
    {
     "data": {
      "text/plain": [
       "0         Iris-setosa\n",
       "1         Iris-setosa\n",
       "2         Iris-setosa\n",
       "3         Iris-setosa\n",
       "4         Iris-setosa\n",
       "            ...      \n",
       "145    Iris-virginica\n",
       "146    Iris-virginica\n",
       "147    Iris-virginica\n",
       "148    Iris-virginica\n",
       "149    Iris-virginica\n",
       "Name: Species, Length: 150, dtype: object"
      ]
     },
     "execution_count": 27,
     "metadata": {},
     "output_type": "execute_result"
    }
   ],
   "source": [
    "# labels\n",
    "y = iris['Species']\n",
    "y"
   ]
  },
  {
   "cell_type": "code",
   "execution_count": 28,
   "metadata": {},
   "outputs": [
    {
     "data": {
      "text/plain": [
       "array([0, 0, 0, 0, 0, 0, 0, 0, 0, 0, 0, 0, 0, 0, 0, 0, 0, 0, 0, 0, 0, 0,\n",
       "       0, 0, 0, 0, 0, 0, 0, 0, 0, 0, 0, 0, 0, 0, 0, 0, 0, 0, 0, 0, 0, 0,\n",
       "       0, 0, 0, 0, 0, 0, 1, 1, 1, 1, 1, 1, 1, 1, 1, 1, 1, 1, 1, 1, 1, 1,\n",
       "       1, 1, 1, 1, 1, 1, 1, 1, 1, 1, 1, 1, 1, 1, 1, 1, 1, 1, 1, 1, 1, 1,\n",
       "       1, 1, 1, 1, 1, 1, 1, 1, 1, 1, 1, 1, 2, 2, 2, 2, 2, 2, 2, 2, 2, 2,\n",
       "       2, 2, 2, 2, 2, 2, 2, 2, 2, 2, 2, 2, 2, 2, 2, 2, 2, 2, 2, 2, 2, 2,\n",
       "       2, 2, 2, 2, 2, 2, 2, 2, 2, 2, 2, 2, 2, 2, 2, 2, 2, 2])"
      ]
     },
     "execution_count": 28,
     "metadata": {},
     "output_type": "execute_result"
    }
   ],
   "source": [
    "from sklearn.preprocessing import LabelEncoder\n",
    "\n",
    "L_E = LabelEncoder()\n",
    "\n",
    "y = L_E.fit_transform(y)\n",
    "y"
   ]
  },
  {
   "cell_type": "markdown",
   "metadata": {},
   "source": [
    "# Converting the dataset into numpy array for processing"
   ]
  },
  {
   "cell_type": "code",
   "execution_count": 29,
   "metadata": {},
   "outputs": [
    {
     "data": {
      "text/plain": [
       "array([[5.1       , 3.5       , 1.4       , 0.2       ],\n",
       "       [4.9       , 3.04791667, 1.4       , 0.2       ],\n",
       "       [4.7       , 3.2       , 1.3       , 0.2       ],\n",
       "       [4.6       , 3.1       , 1.5       , 0.2       ],\n",
       "       [5.        , 3.04791667, 1.4       , 0.2       ],\n",
       "       [5.4       , 3.9       , 3.76783217, 0.4       ],\n",
       "       [4.6       , 3.4       , 1.4       , 1.22112676],\n",
       "       [5.        , 3.4       , 1.5       , 0.2       ],\n",
       "       [4.4       , 2.9       , 1.4       , 0.2       ],\n",
       "       [5.83262411, 3.1       , 1.5       , 0.1       ],\n",
       "       [5.4       , 3.7       , 1.5       , 0.2       ],\n",
       "       [4.8       , 3.4       , 3.76783217, 0.2       ],\n",
       "       [4.8       , 3.        , 1.4       , 0.1       ],\n",
       "       [4.3       , 3.        , 1.1       , 0.1       ],\n",
       "       [5.8       , 4.        , 1.2       , 0.2       ],\n",
       "       [5.7       , 3.04791667, 1.5       , 0.4       ],\n",
       "       [5.4       , 3.9       , 1.3       , 0.4       ],\n",
       "       [5.1       , 3.5       , 1.4       , 0.3       ],\n",
       "       [5.83262411, 3.8       , 1.7       , 0.3       ],\n",
       "       [5.1       , 3.8       , 1.5       , 0.3       ],\n",
       "       [5.4       , 3.4       , 1.7       , 1.22112676],\n",
       "       [5.1       , 3.7       , 1.5       , 0.4       ],\n",
       "       [4.6       , 3.6       , 1.        , 0.2       ],\n",
       "       [5.1       , 3.3       , 1.7       , 0.5       ],\n",
       "       [4.8       , 3.4       , 1.9       , 0.2       ],\n",
       "       [5.        , 3.        , 1.6       , 0.2       ],\n",
       "       [5.        , 3.4       , 1.6       , 0.4       ],\n",
       "       [5.2       , 3.5       , 1.5       , 0.2       ],\n",
       "       [5.2       , 3.4       , 1.4       , 1.22112676],\n",
       "       [4.7       , 3.2       , 1.6       , 0.2       ],\n",
       "       [4.8       , 3.1       , 1.6       , 0.2       ],\n",
       "       [5.4       , 3.4       , 1.5       , 0.4       ],\n",
       "       [5.2       , 4.1       , 1.5       , 0.1       ],\n",
       "       [5.5       , 4.2       , 1.4       , 0.2       ],\n",
       "       [4.9       , 3.1       , 1.5       , 0.1       ],\n",
       "       [5.        , 3.2       , 1.2       , 0.2       ],\n",
       "       [5.5       , 3.5       , 1.3       , 0.2       ],\n",
       "       [4.9       , 3.1       , 1.5       , 0.1       ],\n",
       "       [4.4       , 3.        , 1.3       , 1.22112676],\n",
       "       [5.1       , 3.4       , 1.5       , 0.2       ],\n",
       "       [5.83262411, 3.5       , 1.3       , 0.3       ],\n",
       "       [4.5       , 2.3       , 1.3       , 0.3       ],\n",
       "       [4.4       , 3.2       , 3.76783217, 0.2       ],\n",
       "       [5.        , 3.5       , 1.6       , 0.6       ],\n",
       "       [5.1       , 3.8       , 1.9       , 0.4       ],\n",
       "       [4.8       , 3.        , 1.4       , 0.3       ],\n",
       "       [5.1       , 3.8       , 1.6       , 0.2       ],\n",
       "       [4.6       , 3.04791667, 1.4       , 0.2       ],\n",
       "       [5.3       , 3.7       , 1.5       , 0.2       ],\n",
       "       [5.        , 3.3       , 1.4       , 0.2       ],\n",
       "       [7.        , 3.2       , 4.7       , 1.4       ],\n",
       "       [6.4       , 3.2       , 4.5       , 1.5       ],\n",
       "       [6.9       , 3.1       , 4.9       , 1.5       ],\n",
       "       [5.5       , 2.3       , 4.        , 1.3       ],\n",
       "       [6.5       , 2.8       , 4.6       , 1.5       ],\n",
       "       [5.7       , 2.8       , 4.5       , 1.3       ],\n",
       "       [6.3       , 3.3       , 4.7       , 1.6       ],\n",
       "       [4.9       , 2.4       , 3.3       , 1.22112676],\n",
       "       [6.6       , 2.9       , 4.6       , 1.3       ],\n",
       "       [5.2       , 2.7       , 3.9       , 1.4       ],\n",
       "       [5.        , 2.        , 3.76783217, 1.        ],\n",
       "       [5.9       , 3.        , 4.2       , 1.5       ],\n",
       "       [6.        , 2.2       , 4.        , 1.        ],\n",
       "       [6.1       , 2.9       , 4.7       , 1.4       ],\n",
       "       [5.6       , 2.9       , 3.6       , 1.3       ],\n",
       "       [6.7       , 3.1       , 4.4       , 1.4       ],\n",
       "       [5.6       , 3.        , 4.5       , 1.5       ],\n",
       "       [5.8       , 2.7       , 4.1       , 1.        ],\n",
       "       [5.83262411, 2.2       , 4.5       , 1.5       ],\n",
       "       [5.6       , 2.5       , 3.9       , 1.1       ],\n",
       "       [5.9       , 3.2       , 4.8       , 1.8       ],\n",
       "       [6.1       , 2.8       , 4.        , 1.3       ],\n",
       "       [6.3       , 2.5       , 4.9       , 1.5       ],\n",
       "       [6.1       , 2.8       , 4.7       , 1.2       ],\n",
       "       [6.4       , 2.9       , 4.3       , 1.3       ],\n",
       "       [6.6       , 3.        , 4.4       , 1.4       ],\n",
       "       [6.8       , 2.8       , 4.8       , 1.22112676],\n",
       "       [6.7       , 3.        , 5.        , 1.7       ],\n",
       "       [5.83262411, 2.9       , 4.5       , 1.5       ],\n",
       "       [5.7       , 2.6       , 3.5       , 1.        ],\n",
       "       [5.5       , 3.04791667, 3.8       , 1.1       ],\n",
       "       [5.5       , 2.4       , 3.7       , 1.        ],\n",
       "       [5.8       , 2.7       , 3.9       , 1.2       ],\n",
       "       [6.        , 2.7       , 3.76783217, 1.6       ],\n",
       "       [5.4       , 3.        , 4.5       , 1.5       ],\n",
       "       [6.        , 3.4       , 4.5       , 1.6       ],\n",
       "       [5.83262411, 3.1       , 4.7       , 1.5       ],\n",
       "       [6.3       , 2.3       , 4.4       , 1.3       ],\n",
       "       [5.6       , 3.        , 4.1       , 1.3       ],\n",
       "       [5.5       , 2.5       , 4.        , 1.3       ],\n",
       "       [5.5       , 2.6       , 4.4       , 1.2       ],\n",
       "       [6.1       , 3.        , 4.6       , 1.22112676],\n",
       "       [5.8       , 3.04791667, 4.        , 1.2       ],\n",
       "       [5.        , 2.3       , 3.3       , 1.        ],\n",
       "       [5.6       , 2.7       , 4.2       , 1.3       ],\n",
       "       [5.7       , 3.        , 4.2       , 1.2       ],\n",
       "       [5.7       , 2.9       , 4.2       , 1.3       ],\n",
       "       [6.2       , 2.9       , 4.3       , 1.3       ],\n",
       "       [5.1       , 2.5       , 3.        , 1.1       ],\n",
       "       [5.7       , 2.8       , 4.1       , 1.3       ],\n",
       "       [6.3       , 3.3       , 3.76783217, 2.5       ],\n",
       "       [5.8       , 2.7       , 5.1       , 1.9       ],\n",
       "       [7.1       , 3.        , 5.9       , 2.1       ],\n",
       "       [6.3       , 2.9       , 5.6       , 1.8       ],\n",
       "       [5.83262411, 3.        , 5.8       , 2.2       ],\n",
       "       [7.6       , 3.        , 6.6       , 2.1       ],\n",
       "       [4.9       , 2.5       , 4.5       , 1.22112676],\n",
       "       [7.3       , 2.9       , 6.3       , 1.8       ],\n",
       "       [6.7       , 2.5       , 5.8       , 1.8       ],\n",
       "       [7.2       , 3.6       , 6.1       , 2.5       ],\n",
       "       [6.5       , 3.2       , 5.1       , 2.        ],\n",
       "       [5.83262411, 2.7       , 5.3       , 1.9       ],\n",
       "       [6.8       , 3.        , 5.5       , 2.1       ],\n",
       "       [5.7       , 2.5       , 5.        , 2.        ],\n",
       "       [5.8       , 2.8       , 5.1       , 2.4       ],\n",
       "       [6.4       , 3.2       , 5.3       , 2.3       ],\n",
       "       [6.5       , 3.        , 5.5       , 1.8       ],\n",
       "       [7.7       , 3.8       , 6.7       , 2.2       ],\n",
       "       [7.7       , 2.6       , 6.9       , 2.3       ],\n",
       "       [6.        , 2.2       , 5.        , 1.5       ],\n",
       "       [6.9       , 3.2       , 5.7       , 2.3       ],\n",
       "       [5.6       , 2.8       , 4.9       , 2.        ],\n",
       "       [7.7       , 2.8       , 6.7       , 2.        ],\n",
       "       [6.3       , 2.7       , 4.9       , 1.8       ],\n",
       "       [6.7       , 3.3       , 5.7       , 2.1       ],\n",
       "       [7.2       , 3.2       , 6.        , 1.8       ],\n",
       "       [6.2       , 2.8       , 4.8       , 1.8       ],\n",
       "       [6.1       , 3.        , 4.9       , 1.8       ],\n",
       "       [6.4       , 2.8       , 5.6       , 2.1       ],\n",
       "       [7.2       , 3.        , 3.76783217, 1.6       ],\n",
       "       [7.4       , 2.8       , 6.1       , 1.9       ],\n",
       "       [7.9       , 3.8       , 6.4       , 2.        ],\n",
       "       [6.4       , 2.8       , 5.6       , 2.2       ],\n",
       "       [6.3       , 2.8       , 5.1       , 1.5       ],\n",
       "       [6.1       , 2.6       , 5.6       , 1.4       ],\n",
       "       [7.7       , 3.        , 6.1       , 2.3       ],\n",
       "       [6.3       , 3.4       , 5.6       , 2.4       ],\n",
       "       [6.4       , 3.1       , 5.5       , 1.8       ],\n",
       "       [6.        , 3.        , 4.8       , 1.8       ],\n",
       "       [6.9       , 3.1       , 5.4       , 2.1       ],\n",
       "       [6.7       , 3.1       , 5.6       , 2.4       ],\n",
       "       [6.9       , 3.1       , 5.1       , 2.3       ],\n",
       "       [5.8       , 2.7       , 5.1       , 1.9       ],\n",
       "       [6.8       , 3.2       , 5.9       , 2.3       ],\n",
       "       [6.7       , 3.3       , 5.7       , 2.5       ],\n",
       "       [5.83262411, 3.        , 5.2       , 2.3       ],\n",
       "       [6.3       , 2.5       , 5.        , 1.9       ],\n",
       "       [6.5       , 3.        , 5.2       , 2.        ],\n",
       "       [6.2       , 3.4       , 5.4       , 2.3       ],\n",
       "       [5.9       , 3.        , 5.1       , 1.8       ]])"
      ]
     },
     "execution_count": 29,
     "metadata": {},
     "output_type": "execute_result"
    }
   ],
   "source": [
    "X = np.array(X)\n",
    "X"
   ]
  },
  {
   "cell_type": "code",
   "execution_count": 30,
   "metadata": {},
   "outputs": [],
   "source": [
    "train_data, test_data, train_label, test_label = train_test_split(X, y, test_size = 0.3 , random_state = 0, stratify = y)"
   ]
  },
  {
   "cell_type": "code",
   "execution_count": 31,
   "metadata": {},
   "outputs": [],
   "source": [
    "# normalizing the data\n",
    "train_data = preprocessing.normalize(train_data)\n",
    "test_data = preprocessing.normalize(test_data)"
   ]
  },
  {
   "cell_type": "code",
   "execution_count": 32,
   "metadata": {},
   "outputs": [],
   "source": [
    "from sklearn.preprocessing import StandardScaler\n",
    "\n",
    "sc = StandardScaler().fit(train_data)\n",
    "train_data = sc.transform(train_data)\n",
    "test_data = sc.transform(test_data)"
   ]
  },
  {
   "cell_type": "code",
   "execution_count": 33,
   "metadata": {},
   "outputs": [
    {
     "data": {
      "text/plain": [
       "420"
      ]
     },
     "execution_count": 33,
     "metadata": {},
     "output_type": "execute_result"
    }
   ],
   "source": [
    "train_data.size"
   ]
  },
  {
   "cell_type": "code",
   "execution_count": 34,
   "metadata": {},
   "outputs": [
    {
     "data": {
      "text/plain": [
       "180"
      ]
     },
     "execution_count": 34,
     "metadata": {},
     "output_type": "execute_result"
    }
   ],
   "source": [
    "test_data.size"
   ]
  },
  {
   "cell_type": "markdown",
   "metadata": {},
   "source": [
    "# Training the models"
   ]
  },
  {
   "cell_type": "markdown",
   "metadata": {},
   "source": [
    "# 1) Decision Tree"
   ]
  },
  {
   "cell_type": "code",
   "execution_count": 35,
   "metadata": {},
   "outputs": [
    {
     "data": {
      "text/plain": [
       "DecisionTreeClassifier()"
      ]
     },
     "execution_count": 35,
     "metadata": {},
     "output_type": "execute_result"
    }
   ],
   "source": [
    "from sklearn.tree import DecisionTreeClassifier\n",
    "\n",
    "DT = DecisionTreeClassifier()\n",
    "DT.fit(train_data, train_label)"
   ]
  },
  {
   "cell_type": "code",
   "execution_count": 36,
   "metadata": {},
   "outputs": [
    {
     "data": {
      "text/plain": [
       "88.88888888888889"
      ]
     },
     "execution_count": 36,
     "metadata": {},
     "output_type": "execute_result"
    }
   ],
   "source": [
    "DT_predict = DT.predict(test_data)\n",
    "DT_accuracy = accuracy_score(test_label, DT_predict)*100\n",
    "DT_accuracy"
   ]
  },
  {
   "cell_type": "markdown",
   "metadata": {},
   "source": [
    "# 2) K Nearest Neighbour"
   ]
  },
  {
   "cell_type": "code",
   "execution_count": 37,
   "metadata": {},
   "outputs": [
    {
     "data": {
      "text/plain": [
       "KNeighborsClassifier()"
      ]
     },
     "execution_count": 37,
     "metadata": {},
     "output_type": "execute_result"
    }
   ],
   "source": [
    "from sklearn.neighbors import KNeighborsClassifier\n",
    "\n",
    "knn = KNeighborsClassifier()\n",
    "knn.fit(train_data, train_label)"
   ]
  },
  {
   "cell_type": "code",
   "execution_count": 38,
   "metadata": {},
   "outputs": [
    {
     "data": {
      "text/plain": [
       "95.55555555555556"
      ]
     },
     "execution_count": 38,
     "metadata": {},
     "output_type": "execute_result"
    }
   ],
   "source": [
    "knn_predict = knn.predict(test_data)\n",
    "knn_accuracy = accuracy_score(test_label, knn_predict)*100\n",
    "knn_accuracy"
   ]
  },
  {
   "cell_type": "code",
   "execution_count": 39,
   "metadata": {},
   "outputs": [
    {
     "data": {
      "text/plain": [
       "1"
      ]
     },
     "execution_count": 39,
     "metadata": {},
     "output_type": "execute_result"
    }
   ],
   "source": [
    "custom_input = np.array([[1,1,1,1]])\n",
    "prediction = knn.predict(custom_input)\n",
    "prediction[0]"
   ]
  },
  {
   "cell_type": "markdown",
   "metadata": {},
   "source": [
    "# 3) Logistic Regression"
   ]
  },
  {
   "cell_type": "code",
   "execution_count": 40,
   "metadata": {},
   "outputs": [
    {
     "data": {
      "text/plain": [
       "LogisticRegression()"
      ]
     },
     "execution_count": 40,
     "metadata": {},
     "output_type": "execute_result"
    }
   ],
   "source": [
    "from sklearn.linear_model import LogisticRegression\n",
    "\n",
    "LR = LogisticRegression()\n",
    "\n",
    "LR.fit(train_data, train_label)"
   ]
  },
  {
   "cell_type": "code",
   "execution_count": 41,
   "metadata": {},
   "outputs": [
    {
     "data": {
      "text/plain": [
       "93.33333333333333"
      ]
     },
     "execution_count": 41,
     "metadata": {},
     "output_type": "execute_result"
    }
   ],
   "source": [
    "lr_predict = LR.predict(test_data)\n",
    "lr_accuracy = accuracy_score(test_label, lr_predict)*100\n",
    "lr_accuracy"
   ]
  },
  {
   "cell_type": "markdown",
   "metadata": {},
   "source": [
    "# 4) Random Forest "
   ]
  },
  {
   "cell_type": "code",
   "execution_count": 42,
   "metadata": {},
   "outputs": [
    {
     "data": {
      "text/plain": [
       "RandomForestClassifier()"
      ]
     },
     "execution_count": 42,
     "metadata": {},
     "output_type": "execute_result"
    }
   ],
   "source": [
    "from sklearn.ensemble import RandomForestClassifier\n",
    "\n",
    "RF = RandomForestClassifier()\n",
    "RF.fit(train_data, train_label)"
   ]
  },
  {
   "cell_type": "code",
   "execution_count": 43,
   "metadata": {},
   "outputs": [
    {
     "data": {
      "text/plain": [
       "93.33333333333333"
      ]
     },
     "execution_count": 43,
     "metadata": {},
     "output_type": "execute_result"
    }
   ],
   "source": [
    "rf_predict = RF.predict(test_data)\n",
    "rf_accuracy = accuracy_score(test_label, rf_predict)*100\n",
    "rf_accuracy"
   ]
  },
  {
   "cell_type": "markdown",
   "metadata": {},
   "source": [
    "# 5) SVC"
   ]
  },
  {
   "cell_type": "code",
   "execution_count": 44,
   "metadata": {},
   "outputs": [
    {
     "data": {
      "text/plain": [
       "SVC(kernel='linear')"
      ]
     },
     "execution_count": 44,
     "metadata": {},
     "output_type": "execute_result"
    }
   ],
   "source": [
    "from sklearn.svm import SVC\n",
    "\n",
    "svc = SVC(kernel='linear')\n",
    "svc.fit(train_data, train_label)"
   ]
  },
  {
   "cell_type": "code",
   "execution_count": 45,
   "metadata": {},
   "outputs": [
    {
     "data": {
      "text/plain": [
       "93.33333333333333"
      ]
     },
     "execution_count": 45,
     "metadata": {},
     "output_type": "execute_result"
    }
   ],
   "source": [
    "svc_predict = svc.predict(test_data)\n",
    "svc_accuracy = accuracy_score(test_label, svc_predict)*100\n",
    "svc_accuracy"
   ]
  },
  {
   "cell_type": "markdown",
   "metadata": {},
   "source": [
    "# Evaluation"
   ]
  },
  {
   "cell_type": "code",
   "execution_count": 46,
   "metadata": {},
   "outputs": [
    {
     "name": "stdout",
     "output_type": "stream",
     "text": [
      "Accuracy of Decision Tree is  88.88888888888889\n",
      "Accuracy of K-Nearest Neighbor is  95.55555555555556\n",
      "Accuracy of Logistic Regression is  93.33333333333333\n",
      "Accuracy of Random Forest is  93.33333333333333\n",
      "Accuracy of Support Vector Machine is  93.33333333333333\n"
     ]
    }
   ],
   "source": [
    "print(\"Accuracy of Decision Tree is \", DT_accuracy)\n",
    "print(\"Accuracy of K-Nearest Neighbor is \", knn_accuracy)\n",
    "print(\"Accuracy of Logistic Regression is \", lr_accuracy)\n",
    "print(\"Accuracy of Random Forest is \", rf_accuracy)\n",
    "print(\"Accuracy of Support Vector Machine is \", svc_accuracy)"
   ]
  },
  {
   "cell_type": "code",
   "execution_count": 47,
   "metadata": {},
   "outputs": [
    {
     "name": "stdout",
     "output_type": "stream",
     "text": [
      "Confusion Matrix of Decision Tree: \n"
     ]
    },
    {
     "ename": "NameError",
     "evalue": "name 'DT_prediction' is not defined",
     "output_type": "error",
     "traceback": [
      "\u001b[1;31m---------------------------------------------------------------------------\u001b[0m",
      "\u001b[1;31mNameError\u001b[0m                                 Traceback (most recent call last)",
      "\u001b[1;32m<ipython-input-47-d2c7b5a00e38>\u001b[0m in \u001b[0;36m<module>\u001b[1;34m\u001b[0m\n\u001b[0;32m      1\u001b[0m \u001b[0mprint\u001b[0m\u001b[1;33m(\u001b[0m\u001b[1;34m\"Confusion Matrix of Decision Tree: \"\u001b[0m\u001b[1;33m)\u001b[0m\u001b[1;33m\u001b[0m\u001b[1;33m\u001b[0m\u001b[0m\n\u001b[1;32m----> 2\u001b[1;33m \u001b[0mprint\u001b[0m\u001b[1;33m(\u001b[0m\u001b[0mconfusion_matrix\u001b[0m\u001b[1;33m(\u001b[0m\u001b[0mtest_label\u001b[0m\u001b[1;33m,\u001b[0m \u001b[0mDT_prediction\u001b[0m\u001b[1;33m)\u001b[0m\u001b[1;33m)\u001b[0m\u001b[1;33m\u001b[0m\u001b[1;33m\u001b[0m\u001b[0m\n\u001b[0m\u001b[0;32m      3\u001b[0m \u001b[1;33m\u001b[0m\u001b[0m\n\u001b[0;32m      4\u001b[0m \u001b[0mprint\u001b[0m\u001b[1;33m(\u001b[0m\u001b[1;34m\"Confusion Matrix of K-Nearest Neighbor: \"\u001b[0m\u001b[1;33m)\u001b[0m\u001b[1;33m\u001b[0m\u001b[1;33m\u001b[0m\u001b[0m\n\u001b[0;32m      5\u001b[0m \u001b[0mprint\u001b[0m\u001b[1;33m(\u001b[0m\u001b[0mconfusion_matrix\u001b[0m\u001b[1;33m(\u001b[0m\u001b[0mtest_label\u001b[0m\u001b[1;33m,\u001b[0m \u001b[0mknn_predict\u001b[0m\u001b[1;33m)\u001b[0m\u001b[1;33m)\u001b[0m\u001b[1;33m\u001b[0m\u001b[1;33m\u001b[0m\u001b[0m\n",
      "\u001b[1;31mNameError\u001b[0m: name 'DT_prediction' is not defined"
     ]
    }
   ],
   "source": [
    "print(\"Confusion Matrix of Decision Tree: \")\n",
    "print(confusion_matrix(test_label, DT_prediction))\n",
    "\n",
    "print(\"Confusion Matrix of K-Nearest Neighbor: \")\n",
    "print(confusion_matrix(test_label, knn_predict))\n",
    "\n",
    "print(\"Confusion Matrix of Logistic Regression: \")\n",
    "print(confusion_matrix(test_label, lr_predict))\n",
    "\n",
    "print(\"Confusion Matrix of Random Forest: \")\n",
    "print(confusion_matrix(test_label, rf_predict))\n",
    "\n",
    "print(\"Confusion Matrix of Support Vector Machine: \")\n",
    "print(confusion_matrix(test_label, svc_predict))"
   ]
  },
  {
   "cell_type": "code",
   "execution_count": 48,
   "metadata": {},
   "outputs": [
    {
     "name": "stdout",
     "output_type": "stream",
     "text": [
      "Precision, Recall and f1-score of Decision Tree: \n",
      "              precision    recall  f1-score   support\n",
      "\n",
      "           0       1.00      1.00      1.00        15\n",
      "           1       0.86      0.80      0.83        15\n",
      "           2       0.81      0.87      0.84        15\n",
      "\n",
      "    accuracy                           0.89        45\n",
      "   macro avg       0.89      0.89      0.89        45\n",
      "weighted avg       0.89      0.89      0.89        45\n",
      "\n"
     ]
    }
   ],
   "source": [
    "print(\"Precision, Recall and f1-score of Decision Tree: \")\n",
    "print(classification_report(test_label, DT_predict))"
   ]
  },
  {
   "cell_type": "code",
   "execution_count": 49,
   "metadata": {},
   "outputs": [
    {
     "name": "stdout",
     "output_type": "stream",
     "text": [
      "Precision, Recall and f1-score of K-Nearest Neighbor: \n",
      "              precision    recall  f1-score   support\n",
      "\n",
      "           0       1.00      1.00      1.00        15\n",
      "           1       0.93      0.93      0.93        15\n",
      "           2       0.93      0.93      0.93        15\n",
      "\n",
      "    accuracy                           0.96        45\n",
      "   macro avg       0.96      0.96      0.96        45\n",
      "weighted avg       0.96      0.96      0.96        45\n",
      "\n"
     ]
    }
   ],
   "source": [
    "print(\"Precision, Recall and f1-score of K-Nearest Neighbor: \")\n",
    "print(classification_report(test_label, knn_predict))"
   ]
  },
  {
   "cell_type": "code",
   "execution_count": 50,
   "metadata": {},
   "outputs": [
    {
     "name": "stdout",
     "output_type": "stream",
     "text": [
      "Precision, Recall and f1-score of Logistic Regression: \n",
      "              precision    recall  f1-score   support\n",
      "\n",
      "           0       1.00      1.00      1.00        15\n",
      "           1       0.88      0.93      0.90        15\n",
      "           2       0.93      0.87      0.90        15\n",
      "\n",
      "    accuracy                           0.93        45\n",
      "   macro avg       0.93      0.93      0.93        45\n",
      "weighted avg       0.93      0.93      0.93        45\n",
      "\n"
     ]
    }
   ],
   "source": [
    "print(\"Precision, Recall and f1-score of Logistic Regression: \")\n",
    "print(classification_report(test_label, lr_predict))"
   ]
  },
  {
   "cell_type": "code",
   "execution_count": 51,
   "metadata": {},
   "outputs": [
    {
     "name": "stdout",
     "output_type": "stream",
     "text": [
      "Precision, Recall and f1-score of Random Forest: \n",
      "              precision    recall  f1-score   support\n",
      "\n",
      "           0       1.00      1.00      1.00        15\n",
      "           1       0.88      0.93      0.90        15\n",
      "           2       0.93      0.87      0.90        15\n",
      "\n",
      "    accuracy                           0.93        45\n",
      "   macro avg       0.93      0.93      0.93        45\n",
      "weighted avg       0.93      0.93      0.93        45\n",
      "\n"
     ]
    }
   ],
   "source": [
    "print(\"Precision, Recall and f1-score of Random Forest: \")\n",
    "print(classification_report(test_label, rf_predict))"
   ]
  },
  {
   "cell_type": "code",
   "execution_count": 52,
   "metadata": {},
   "outputs": [
    {
     "name": "stdout",
     "output_type": "stream",
     "text": [
      "Precision, Recall and f1-score of Support Vector Machine: \n",
      "              precision    recall  f1-score   support\n",
      "\n",
      "           0       1.00      1.00      1.00        15\n",
      "           1       0.88      0.93      0.90        15\n",
      "           2       0.93      0.87      0.90        15\n",
      "\n",
      "    accuracy                           0.93        45\n",
      "   macro avg       0.93      0.93      0.93        45\n",
      "weighted avg       0.93      0.93      0.93        45\n",
      "\n"
     ]
    }
   ],
   "source": [
    "print(\"Precision, Recall and f1-score of Support Vector Machine: \")\n",
    "print(classification_report(test_label, svc_predict))"
   ]
  },
  {
   "cell_type": "markdown",
   "metadata": {},
   "source": [
    "# Comparing the actual values with predicting values"
   ]
  },
  {
   "cell_type": "code",
   "execution_count": 53,
   "metadata": {},
   "outputs": [
    {
     "name": "stdout",
     "output_type": "stream",
     "text": [
      "[[2 2]\n",
      " [2 2]\n",
      " [0 0]\n",
      " [0 0]\n",
      " [1 1]\n",
      " [0 0]\n",
      " [2 1]\n",
      " [2 2]\n",
      " [0 0]\n",
      " [2 1]\n",
      " [0 0]\n",
      " [2 2]\n",
      " [0 0]\n",
      " [2 2]\n",
      " [1 1]\n",
      " [2 2]\n",
      " [1 1]\n",
      " [1 1]\n",
      " [1 1]\n",
      " [0 0]\n",
      " [1 1]\n",
      " [2 2]\n",
      " [0 0]\n",
      " [1 1]\n",
      " [1 2]\n",
      " [2 2]\n",
      " [2 2]\n",
      " [2 2]\n",
      " [1 1]\n",
      " [2 2]\n",
      " [1 1]\n",
      " [0 0]\n",
      " [0 0]\n",
      " [1 1]\n",
      " [2 1]\n",
      " [2 2]\n",
      " [1 1]\n",
      " [0 0]\n",
      " [0 0]\n",
      " [1 1]\n",
      " [0 0]\n",
      " [2 2]\n",
      " [0 0]\n",
      " [0 0]\n",
      " [1 2]]\n"
     ]
    }
   ],
   "source": [
    "print(np.concatenate((DT_predict.reshape(len(DT_predict),1), test_label.reshape(len(test_label),1)),1))"
   ]
  },
  {
   "cell_type": "code",
   "execution_count": 54,
   "metadata": {},
   "outputs": [
    {
     "name": "stdout",
     "output_type": "stream",
     "text": [
      "[[2 2]\n",
      " [2 2]\n",
      " [0 0]\n",
      " [0 0]\n",
      " [1 1]\n",
      " [0 0]\n",
      " [1 1]\n",
      " [2 2]\n",
      " [0 0]\n",
      " [1 1]\n",
      " [0 0]\n",
      " [2 2]\n",
      " [0 0]\n",
      " [2 2]\n",
      " [1 1]\n",
      " [2 2]\n",
      " [2 1]\n",
      " [1 1]\n",
      " [1 1]\n",
      " [0 0]\n",
      " [1 1]\n",
      " [2 2]\n",
      " [0 0]\n",
      " [1 1]\n",
      " [1 2]\n",
      " [2 2]\n",
      " [2 2]\n",
      " [1 2]\n",
      " [1 1]\n",
      " [2 2]\n",
      " [1 1]\n",
      " [0 0]\n",
      " [0 0]\n",
      " [1 1]\n",
      " [1 1]\n",
      " [2 2]\n",
      " [1 1]\n",
      " [0 0]\n",
      " [0 0]\n",
      " [1 1]\n",
      " [0 0]\n",
      " [2 2]\n",
      " [0 0]\n",
      " [0 0]\n",
      " [2 2]]\n"
     ]
    }
   ],
   "source": [
    "print(np.concatenate((lr_predict.reshape(len(lr_predict),1), test_label.reshape(len(test_label),1)),1))"
   ]
  },
  {
   "cell_type": "code",
   "execution_count": 55,
   "metadata": {},
   "outputs": [
    {
     "name": "stdout",
     "output_type": "stream",
     "text": [
      "[[2 2]\n",
      " [2 2]\n",
      " [0 0]\n",
      " [0 0]\n",
      " [1 1]\n",
      " [0 0]\n",
      " [1 1]\n",
      " [2 2]\n",
      " [0 0]\n",
      " [1 1]\n",
      " [0 0]\n",
      " [2 2]\n",
      " [0 0]\n",
      " [2 2]\n",
      " [1 1]\n",
      " [2 2]\n",
      " [2 1]\n",
      " [1 1]\n",
      " [1 1]\n",
      " [0 0]\n",
      " [1 1]\n",
      " [2 2]\n",
      " [0 0]\n",
      " [1 1]\n",
      " [1 2]\n",
      " [2 2]\n",
      " [2 2]\n",
      " [2 2]\n",
      " [1 1]\n",
      " [2 2]\n",
      " [1 1]\n",
      " [0 0]\n",
      " [0 0]\n",
      " [1 1]\n",
      " [1 1]\n",
      " [2 2]\n",
      " [1 1]\n",
      " [0 0]\n",
      " [0 0]\n",
      " [1 1]\n",
      " [0 0]\n",
      " [2 2]\n",
      " [0 0]\n",
      " [0 0]\n",
      " [2 2]]\n"
     ]
    }
   ],
   "source": [
    "print(np.concatenate((knn_predict.reshape(len(knn_predict),1), test_label.reshape(len(test_label),1)),1))"
   ]
  },
  {
   "cell_type": "code",
   "execution_count": 56,
   "metadata": {},
   "outputs": [
    {
     "name": "stdout",
     "output_type": "stream",
     "text": [
      "[[2 2]\n",
      " [2 2]\n",
      " [0 0]\n",
      " [0 0]\n",
      " [1 1]\n",
      " [0 0]\n",
      " [2 1]\n",
      " [2 2]\n",
      " [0 0]\n",
      " [1 1]\n",
      " [0 0]\n",
      " [2 2]\n",
      " [0 0]\n",
      " [2 2]\n",
      " [1 1]\n",
      " [2 2]\n",
      " [1 1]\n",
      " [1 1]\n",
      " [1 1]\n",
      " [0 0]\n",
      " [1 1]\n",
      " [2 2]\n",
      " [0 0]\n",
      " [1 1]\n",
      " [1 2]\n",
      " [2 2]\n",
      " [2 2]\n",
      " [1 2]\n",
      " [1 1]\n",
      " [2 2]\n",
      " [1 1]\n",
      " [0 0]\n",
      " [0 0]\n",
      " [1 1]\n",
      " [1 1]\n",
      " [2 2]\n",
      " [1 1]\n",
      " [0 0]\n",
      " [0 0]\n",
      " [1 1]\n",
      " [0 0]\n",
      " [2 2]\n",
      " [0 0]\n",
      " [0 0]\n",
      " [2 2]]\n"
     ]
    }
   ],
   "source": [
    "print(np.concatenate((rf_predict.reshape(len(rf_predict),1), test_label.reshape(len(test_label),1)),1))"
   ]
  },
  {
   "cell_type": "code",
   "execution_count": 57,
   "metadata": {},
   "outputs": [
    {
     "name": "stdout",
     "output_type": "stream",
     "text": [
      "[[2 2]\n",
      " [2 2]\n",
      " [0 0]\n",
      " [0 0]\n",
      " [1 1]\n",
      " [0 0]\n",
      " [1 1]\n",
      " [2 2]\n",
      " [0 0]\n",
      " [1 1]\n",
      " [0 0]\n",
      " [2 2]\n",
      " [0 0]\n",
      " [2 2]\n",
      " [1 1]\n",
      " [2 2]\n",
      " [2 1]\n",
      " [1 1]\n",
      " [1 1]\n",
      " [0 0]\n",
      " [1 1]\n",
      " [2 2]\n",
      " [0 0]\n",
      " [1 1]\n",
      " [1 2]\n",
      " [2 2]\n",
      " [2 2]\n",
      " [1 2]\n",
      " [1 1]\n",
      " [2 2]\n",
      " [1 1]\n",
      " [0 0]\n",
      " [0 0]\n",
      " [1 1]\n",
      " [1 1]\n",
      " [2 2]\n",
      " [1 1]\n",
      " [0 0]\n",
      " [0 0]\n",
      " [1 1]\n",
      " [0 0]\n",
      " [2 2]\n",
      " [0 0]\n",
      " [0 0]\n",
      " [2 2]]\n"
     ]
    }
   ],
   "source": [
    "print(np.concatenate((svc_predict.reshape(len(svc_predict),1), test_label.reshape(len(test_label),1)),1))"
   ]
  },
  {
   "cell_type": "code",
   "execution_count": 58,
   "metadata": {},
   "outputs": [
    {
     "ename": "ValueError",
     "evalue": "multilabel-indicator format is not supported",
     "output_type": "error",
     "traceback": [
      "\u001b[1;31m---------------------------------------------------------------------------\u001b[0m",
      "\u001b[1;31mValueError\u001b[0m                                Traceback (most recent call last)",
      "\u001b[1;32m<ipython-input-58-972a4cce972d>\u001b[0m in \u001b[0;36m<module>\u001b[1;34m\u001b[0m\n\u001b[0;32m      4\u001b[0m \u001b[1;32mfrom\u001b[0m \u001b[0msklearn\u001b[0m\u001b[1;33m.\u001b[0m\u001b[0mmetrics\u001b[0m \u001b[1;32mimport\u001b[0m \u001b[0mroc_curve\u001b[0m\u001b[1;33m\u001b[0m\u001b[1;33m\u001b[0m\u001b[0m\n\u001b[0;32m      5\u001b[0m \u001b[0my_pred_prob1\u001b[0m \u001b[1;33m=\u001b[0m \u001b[0mDT\u001b[0m\u001b[1;33m.\u001b[0m\u001b[0mpredict_proba\u001b[0m\u001b[1;33m(\u001b[0m\u001b[0mtest_data\u001b[0m\u001b[1;33m)\u001b[0m\u001b[1;33m[\u001b[0m\u001b[1;33m:\u001b[0m\u001b[1;33m,\u001b[0m\u001b[1;36m2\u001b[0m\u001b[1;33m]\u001b[0m\u001b[1;33m\u001b[0m\u001b[1;33m\u001b[0m\u001b[0m\n\u001b[1;32m----> 6\u001b[1;33m \u001b[0mfpr1\u001b[0m \u001b[1;33m,\u001b[0m \u001b[0mtpr1\u001b[0m\u001b[1;33m,\u001b[0m \u001b[0mthresholds1\u001b[0m \u001b[1;33m=\u001b[0m \u001b[0mroc_curve\u001b[0m\u001b[1;33m(\u001b[0m\u001b[0my\u001b[0m\u001b[1;33m,\u001b[0m \u001b[0my_pred_prob1\u001b[0m\u001b[1;33m)\u001b[0m\u001b[1;33m\u001b[0m\u001b[1;33m\u001b[0m\u001b[0m\n\u001b[0m\u001b[0;32m      7\u001b[0m \u001b[1;33m\u001b[0m\u001b[0m\n\u001b[0;32m      8\u001b[0m \u001b[0my_pred_prob2\u001b[0m \u001b[1;33m=\u001b[0m \u001b[0mLR\u001b[0m\u001b[1;33m.\u001b[0m\u001b[0mpredict_proba\u001b[0m\u001b[1;33m(\u001b[0m\u001b[0mtest_data\u001b[0m\u001b[1;33m)\u001b[0m\u001b[1;33m[\u001b[0m\u001b[1;33m:\u001b[0m\u001b[1;33m,\u001b[0m\u001b[1;36m2\u001b[0m\u001b[1;33m]\u001b[0m\u001b[1;33m\u001b[0m\u001b[1;33m\u001b[0m\u001b[0m\n",
      "\u001b[1;32m~\\anaconda3\\lib\\site-packages\\sklearn\\utils\\validation.py\u001b[0m in \u001b[0;36minner_f\u001b[1;34m(*args, **kwargs)\u001b[0m\n\u001b[0;32m     70\u001b[0m                           FutureWarning)\n\u001b[0;32m     71\u001b[0m         \u001b[0mkwargs\u001b[0m\u001b[1;33m.\u001b[0m\u001b[0mupdate\u001b[0m\u001b[1;33m(\u001b[0m\u001b[1;33m{\u001b[0m\u001b[0mk\u001b[0m\u001b[1;33m:\u001b[0m \u001b[0marg\u001b[0m \u001b[1;32mfor\u001b[0m \u001b[0mk\u001b[0m\u001b[1;33m,\u001b[0m \u001b[0marg\u001b[0m \u001b[1;32min\u001b[0m \u001b[0mzip\u001b[0m\u001b[1;33m(\u001b[0m\u001b[0msig\u001b[0m\u001b[1;33m.\u001b[0m\u001b[0mparameters\u001b[0m\u001b[1;33m,\u001b[0m \u001b[0margs\u001b[0m\u001b[1;33m)\u001b[0m\u001b[1;33m}\u001b[0m\u001b[1;33m)\u001b[0m\u001b[1;33m\u001b[0m\u001b[1;33m\u001b[0m\u001b[0m\n\u001b[1;32m---> 72\u001b[1;33m         \u001b[1;32mreturn\u001b[0m \u001b[0mf\u001b[0m\u001b[1;33m(\u001b[0m\u001b[1;33m**\u001b[0m\u001b[0mkwargs\u001b[0m\u001b[1;33m)\u001b[0m\u001b[1;33m\u001b[0m\u001b[1;33m\u001b[0m\u001b[0m\n\u001b[0m\u001b[0;32m     73\u001b[0m     \u001b[1;32mreturn\u001b[0m \u001b[0minner_f\u001b[0m\u001b[1;33m\u001b[0m\u001b[1;33m\u001b[0m\u001b[0m\n\u001b[0;32m     74\u001b[0m \u001b[1;33m\u001b[0m\u001b[0m\n",
      "\u001b[1;32m~\\anaconda3\\lib\\site-packages\\sklearn\\metrics\\_ranking.py\u001b[0m in \u001b[0;36mroc_curve\u001b[1;34m(y_true, y_score, pos_label, sample_weight, drop_intermediate)\u001b[0m\n\u001b[0;32m    773\u001b[0m \u001b[1;33m\u001b[0m\u001b[0m\n\u001b[0;32m    774\u001b[0m     \"\"\"\n\u001b[1;32m--> 775\u001b[1;33m     fps, tps, thresholds = _binary_clf_curve(\n\u001b[0m\u001b[0;32m    776\u001b[0m         y_true, y_score, pos_label=pos_label, sample_weight=sample_weight)\n\u001b[0;32m    777\u001b[0m \u001b[1;33m\u001b[0m\u001b[0m\n",
      "\u001b[1;32m~\\anaconda3\\lib\\site-packages\\sklearn\\metrics\\_ranking.py\u001b[0m in \u001b[0;36m_binary_clf_curve\u001b[1;34m(y_true, y_score, pos_label, sample_weight)\u001b[0m\n\u001b[0;32m    537\u001b[0m     if not (y_type == \"binary\" or\n\u001b[0;32m    538\u001b[0m             (y_type == \"multiclass\" and pos_label is not None)):\n\u001b[1;32m--> 539\u001b[1;33m         \u001b[1;32mraise\u001b[0m \u001b[0mValueError\u001b[0m\u001b[1;33m(\u001b[0m\u001b[1;34m\"{0} format is not supported\"\u001b[0m\u001b[1;33m.\u001b[0m\u001b[0mformat\u001b[0m\u001b[1;33m(\u001b[0m\u001b[0my_type\u001b[0m\u001b[1;33m)\u001b[0m\u001b[1;33m)\u001b[0m\u001b[1;33m\u001b[0m\u001b[1;33m\u001b[0m\u001b[0m\n\u001b[0m\u001b[0;32m    540\u001b[0m \u001b[1;33m\u001b[0m\u001b[0m\n\u001b[0;32m    541\u001b[0m     \u001b[0mcheck_consistent_length\u001b[0m\u001b[1;33m(\u001b[0m\u001b[0my_true\u001b[0m\u001b[1;33m,\u001b[0m \u001b[0my_score\u001b[0m\u001b[1;33m,\u001b[0m \u001b[0msample_weight\u001b[0m\u001b[1;33m)\u001b[0m\u001b[1;33m\u001b[0m\u001b[1;33m\u001b[0m\u001b[0m\n",
      "\u001b[1;31mValueError\u001b[0m: multilabel-indicator format is not supported"
     ]
    }
   ],
   "source": [
    "from sklearn import preprocessing\n",
    "y = preprocessing.label_binarize(y, classes=[0, 1, 2])\n",
    "#ROC Curve\n",
    "from sklearn.metrics import roc_curve\n",
    "y_pred_prob1 = DT.predict_proba(test_data)[:,2]\n",
    "fpr1 , tpr1, thresholds1 = roc_curve(y, y_pred_prob1)\n",
    "\n",
    "y_pred_prob2 = LR.predict_proba(test_data)[:,2]\n",
    "fpr2 , tpr2, thresholds2 = roc_curve(y, y_pred_prob2)\n",
    "\n",
    "y_pred_prob3 = knn.predict_proba(test_data)[:,2]\n",
    "fpr3 , tpr3, thresholds3 = roc_curve(y, y_pred_prob3)\n",
    "\n",
    "y_pred_prob4 = RF.predict_proba(test_data)[:,2]\n",
    "fpr4 , tpr4, thresholds4 = roc_curve(y, y_pred_prob4)\n",
    "\n",
    "y_pred_prob5 = RF.predict_proba(test_data)[:,2]\n",
    "fpr5 , tpr5, thresholds5 = roc_curve(y, y_pred_prob5)\n",
    "\n",
    "\n",
    "plt.plot([0,1,2],[0,1,2], 'k--')\n",
    "plt.plot(fpr1, tpr1, label= \"Decision Tree\")\n",
    "plt.plot(fpr2, tpr2, label= \"Logistic Regression\")\n",
    "plt.plot(fpr3, tpr3, label= \"K-Nearest Neighbor\")\n",
    "plt.plot(fpr4, tpr4, label= \"Random Forest\")\n",
    "plt.plot(fpr4, tpr4, label= \"Support Vector Machine\")\n",
    "plt.legend()\n",
    "plt.xlabel(\"False Positive Rate\", size = 14)\n",
    "plt.ylabel(\"True Positive Rate\", size = 14)\n",
    "plt.title('Receiver Operating Characteristic')\n",
    "plt.show()"
   ]
  },
  {
   "cell_type": "code",
   "execution_count": 59,
   "metadata": {},
   "outputs": [
    {
     "ename": "ValueError",
     "evalue": "Expected 2D array, got 1D array instead:\narray=[2 2 0 0 1 0 1 2 0 1 0 2 0 2 1 2 1 1 1 0 1 2 0 1 2 2 2 2 1 2 1 0 0 1 1 2 1\n 0 0 1 0 2 0 0 2].\nReshape your data either using array.reshape(-1, 1) if your data has a single feature or array.reshape(1, -1) if it contains a single sample.",
     "output_type": "error",
     "traceback": [
      "\u001b[1;31m---------------------------------------------------------------------------\u001b[0m",
      "\u001b[1;31mValueError\u001b[0m                                Traceback (most recent call last)",
      "\u001b[1;32m<ipython-input-59-35291b43f969>\u001b[0m in \u001b[0;36m<module>\u001b[1;34m\u001b[0m\n\u001b[0;32m     24\u001b[0m     \u001b[0my_pred\u001b[0m\u001b[1;33m=\u001b[0m\u001b[0mmodel\u001b[0m\u001b[1;33m.\u001b[0m\u001b[0mpredict\u001b[0m\u001b[1;33m(\u001b[0m\u001b[0mtest_data\u001b[0m\u001b[1;33m)\u001b[0m \u001b[1;31m# predict the test data\u001b[0m\u001b[1;33m\u001b[0m\u001b[1;33m\u001b[0m\u001b[0m\n\u001b[0;32m     25\u001b[0m \u001b[1;31m# Compute False postive rate, and True positive rate\u001b[0m\u001b[1;33m\u001b[0m\u001b[1;33m\u001b[0m\u001b[1;33m\u001b[0m\u001b[0m\n\u001b[1;32m---> 26\u001b[1;33m     \u001b[0mfpr\u001b[0m\u001b[1;33m,\u001b[0m \u001b[0mtpr\u001b[0m\u001b[1;33m,\u001b[0m \u001b[0mthresholds\u001b[0m \u001b[1;33m=\u001b[0m \u001b[0mmetrics\u001b[0m\u001b[1;33m.\u001b[0m\u001b[0mroc_curve\u001b[0m\u001b[1;33m(\u001b[0m\u001b[0mtest_label\u001b[0m\u001b[1;33m,\u001b[0m \u001b[0mmodel\u001b[0m\u001b[1;33m.\u001b[0m\u001b[0mpredict_proba\u001b[0m\u001b[1;33m(\u001b[0m\u001b[0mtest_label\u001b[0m\u001b[1;33m)\u001b[0m\u001b[1;33m[\u001b[0m\u001b[1;33m:\u001b[0m\u001b[1;33m,\u001b[0m\u001b[1;36m1\u001b[0m\u001b[1;33m]\u001b[0m\u001b[1;33m)\u001b[0m\u001b[1;33m\u001b[0m\u001b[1;33m\u001b[0m\u001b[0m\n\u001b[0m\u001b[0;32m     27\u001b[0m \u001b[1;31m# Calculate Area under the curve to display on the plot\u001b[0m\u001b[1;33m\u001b[0m\u001b[1;33m\u001b[0m\u001b[1;33m\u001b[0m\u001b[0m\n\u001b[0;32m     28\u001b[0m     \u001b[0mauc\u001b[0m \u001b[1;33m=\u001b[0m \u001b[0mmetrics\u001b[0m\u001b[1;33m.\u001b[0m\u001b[0mroc_auc_score\u001b[0m\u001b[1;33m(\u001b[0m\u001b[0mtest_label\u001b[0m\u001b[1;33m,\u001b[0m \u001b[0mmodel\u001b[0m\u001b[1;33m.\u001b[0m\u001b[0mpredict\u001b[0m\u001b[1;33m(\u001b[0m\u001b[0mtest_data\u001b[0m\u001b[1;33m)\u001b[0m\u001b[1;33m)\u001b[0m\u001b[1;33m\u001b[0m\u001b[1;33m\u001b[0m\u001b[0m\n",
      "\u001b[1;32m~\\anaconda3\\lib\\site-packages\\sklearn\\linear_model\\_logistic.py\u001b[0m in \u001b[0;36mpredict_proba\u001b[1;34m(self, X)\u001b[0m\n\u001b[0;32m   1468\u001b[0m             \u001b[1;32mreturn\u001b[0m \u001b[0msuper\u001b[0m\u001b[1;33m(\u001b[0m\u001b[1;33m)\u001b[0m\u001b[1;33m.\u001b[0m\u001b[0m_predict_proba_lr\u001b[0m\u001b[1;33m(\u001b[0m\u001b[0mX\u001b[0m\u001b[1;33m)\u001b[0m\u001b[1;33m\u001b[0m\u001b[1;33m\u001b[0m\u001b[0m\n\u001b[0;32m   1469\u001b[0m         \u001b[1;32melse\u001b[0m\u001b[1;33m:\u001b[0m\u001b[1;33m\u001b[0m\u001b[1;33m\u001b[0m\u001b[0m\n\u001b[1;32m-> 1470\u001b[1;33m             \u001b[0mdecision\u001b[0m \u001b[1;33m=\u001b[0m \u001b[0mself\u001b[0m\u001b[1;33m.\u001b[0m\u001b[0mdecision_function\u001b[0m\u001b[1;33m(\u001b[0m\u001b[0mX\u001b[0m\u001b[1;33m)\u001b[0m\u001b[1;33m\u001b[0m\u001b[1;33m\u001b[0m\u001b[0m\n\u001b[0m\u001b[0;32m   1471\u001b[0m             \u001b[1;32mif\u001b[0m \u001b[0mdecision\u001b[0m\u001b[1;33m.\u001b[0m\u001b[0mndim\u001b[0m \u001b[1;33m==\u001b[0m \u001b[1;36m1\u001b[0m\u001b[1;33m:\u001b[0m\u001b[1;33m\u001b[0m\u001b[1;33m\u001b[0m\u001b[0m\n\u001b[0;32m   1472\u001b[0m                 \u001b[1;31m# Workaround for multi_class=\"multinomial\" and binary outcomes\u001b[0m\u001b[1;33m\u001b[0m\u001b[1;33m\u001b[0m\u001b[1;33m\u001b[0m\u001b[0m\n",
      "\u001b[1;32m~\\anaconda3\\lib\\site-packages\\sklearn\\linear_model\\_base.py\u001b[0m in \u001b[0;36mdecision_function\u001b[1;34m(self, X)\u001b[0m\n\u001b[0;32m    280\u001b[0m         \u001b[0mcheck_is_fitted\u001b[0m\u001b[1;33m(\u001b[0m\u001b[0mself\u001b[0m\u001b[1;33m)\u001b[0m\u001b[1;33m\u001b[0m\u001b[1;33m\u001b[0m\u001b[0m\n\u001b[0;32m    281\u001b[0m \u001b[1;33m\u001b[0m\u001b[0m\n\u001b[1;32m--> 282\u001b[1;33m         \u001b[0mX\u001b[0m \u001b[1;33m=\u001b[0m \u001b[0mcheck_array\u001b[0m\u001b[1;33m(\u001b[0m\u001b[0mX\u001b[0m\u001b[1;33m,\u001b[0m \u001b[0maccept_sparse\u001b[0m\u001b[1;33m=\u001b[0m\u001b[1;34m'csr'\u001b[0m\u001b[1;33m)\u001b[0m\u001b[1;33m\u001b[0m\u001b[1;33m\u001b[0m\u001b[0m\n\u001b[0m\u001b[0;32m    283\u001b[0m \u001b[1;33m\u001b[0m\u001b[0m\n\u001b[0;32m    284\u001b[0m         \u001b[0mn_features\u001b[0m \u001b[1;33m=\u001b[0m \u001b[0mself\u001b[0m\u001b[1;33m.\u001b[0m\u001b[0mcoef_\u001b[0m\u001b[1;33m.\u001b[0m\u001b[0mshape\u001b[0m\u001b[1;33m[\u001b[0m\u001b[1;36m1\u001b[0m\u001b[1;33m]\u001b[0m\u001b[1;33m\u001b[0m\u001b[1;33m\u001b[0m\u001b[0m\n",
      "\u001b[1;32m~\\anaconda3\\lib\\site-packages\\sklearn\\utils\\validation.py\u001b[0m in \u001b[0;36minner_f\u001b[1;34m(*args, **kwargs)\u001b[0m\n\u001b[0;32m     70\u001b[0m                           FutureWarning)\n\u001b[0;32m     71\u001b[0m         \u001b[0mkwargs\u001b[0m\u001b[1;33m.\u001b[0m\u001b[0mupdate\u001b[0m\u001b[1;33m(\u001b[0m\u001b[1;33m{\u001b[0m\u001b[0mk\u001b[0m\u001b[1;33m:\u001b[0m \u001b[0marg\u001b[0m \u001b[1;32mfor\u001b[0m \u001b[0mk\u001b[0m\u001b[1;33m,\u001b[0m \u001b[0marg\u001b[0m \u001b[1;32min\u001b[0m \u001b[0mzip\u001b[0m\u001b[1;33m(\u001b[0m\u001b[0msig\u001b[0m\u001b[1;33m.\u001b[0m\u001b[0mparameters\u001b[0m\u001b[1;33m,\u001b[0m \u001b[0margs\u001b[0m\u001b[1;33m)\u001b[0m\u001b[1;33m}\u001b[0m\u001b[1;33m)\u001b[0m\u001b[1;33m\u001b[0m\u001b[1;33m\u001b[0m\u001b[0m\n\u001b[1;32m---> 72\u001b[1;33m         \u001b[1;32mreturn\u001b[0m \u001b[0mf\u001b[0m\u001b[1;33m(\u001b[0m\u001b[1;33m**\u001b[0m\u001b[0mkwargs\u001b[0m\u001b[1;33m)\u001b[0m\u001b[1;33m\u001b[0m\u001b[1;33m\u001b[0m\u001b[0m\n\u001b[0m\u001b[0;32m     73\u001b[0m     \u001b[1;32mreturn\u001b[0m \u001b[0minner_f\u001b[0m\u001b[1;33m\u001b[0m\u001b[1;33m\u001b[0m\u001b[0m\n\u001b[0;32m     74\u001b[0m \u001b[1;33m\u001b[0m\u001b[0m\n",
      "\u001b[1;32m~\\anaconda3\\lib\\site-packages\\sklearn\\utils\\validation.py\u001b[0m in \u001b[0;36mcheck_array\u001b[1;34m(array, accept_sparse, accept_large_sparse, dtype, order, copy, force_all_finite, ensure_2d, allow_nd, ensure_min_samples, ensure_min_features, estimator)\u001b[0m\n\u001b[0;32m    617\u001b[0m             \u001b[1;31m# If input is 1D raise error\u001b[0m\u001b[1;33m\u001b[0m\u001b[1;33m\u001b[0m\u001b[1;33m\u001b[0m\u001b[0m\n\u001b[0;32m    618\u001b[0m             \u001b[1;32mif\u001b[0m \u001b[0marray\u001b[0m\u001b[1;33m.\u001b[0m\u001b[0mndim\u001b[0m \u001b[1;33m==\u001b[0m \u001b[1;36m1\u001b[0m\u001b[1;33m:\u001b[0m\u001b[1;33m\u001b[0m\u001b[1;33m\u001b[0m\u001b[0m\n\u001b[1;32m--> 619\u001b[1;33m                 raise ValueError(\n\u001b[0m\u001b[0;32m    620\u001b[0m                     \u001b[1;34m\"Expected 2D array, got 1D array instead:\\narray={}.\\n\"\u001b[0m\u001b[1;33m\u001b[0m\u001b[1;33m\u001b[0m\u001b[0m\n\u001b[0;32m    621\u001b[0m                     \u001b[1;34m\"Reshape your data either using array.reshape(-1, 1) if \"\u001b[0m\u001b[1;33m\u001b[0m\u001b[1;33m\u001b[0m\u001b[0m\n",
      "\u001b[1;31mValueError\u001b[0m: Expected 2D array, got 1D array instead:\narray=[2 2 0 0 1 0 1 2 0 1 0 2 0 2 1 2 1 1 1 0 1 2 0 1 2 2 2 2 1 2 1 0 0 1 1 2 1\n 0 0 1 0 2 0 0 2].\nReshape your data either using array.reshape(-1, 1) if your data has a single feature or array.reshape(1, -1) if it contains a single sample."
     ]
    },
    {
     "data": {
      "text/plain": [
       "<Figure size 432x288 with 0 Axes>"
      ]
     },
     "metadata": {},
     "output_type": "display_data"
    }
   ],
   "source": [
    "from sklearn.linear_model import LogisticRegression\n",
    "from sklearn.ensemble import GradientBoostingClassifier\n",
    "from sklearn import metrics\n",
    "import matplotlib.pyplot as plt\n",
    "\n",
    "plt.figure()\n",
    "\n",
    "# Add the models to the list that you want to view on the ROC plot\n",
    "models = [\n",
    "{\n",
    "    'label': 'Logistic Regression',\n",
    "    'model': LogisticRegression(),\n",
    "},\n",
    "{\n",
    "    'label': 'Gradient Boosting',\n",
    "    'model': GradientBoostingClassifier(),\n",
    "}\n",
    "]\n",
    "\n",
    "# Below for loop iterates through your models list\n",
    "for m in models:\n",
    "    model = m['model'] # select the model\n",
    "    model.fit(train_data, train_label) # train the model\n",
    "    y_pred=model.predict(test_data) # predict the test data\n",
    "# Compute False postive rate, and True positive rate\n",
    "    fpr, tpr, thresholds = metrics.roc_curve(test_label, model.predict_proba(test_label)[:,1])\n",
    "# Calculate Area under the curve to display on the plot\n",
    "    auc = metrics.roc_auc_score(test_label, model.predict(test_data))\n",
    "# Now, plot the computed values\n",
    "    plt.plot(fpr, tpr, label='%s ROC (area = %0.2f)' % (m['label'], auc))\n",
    "# Custom settings for the plot \n",
    "plt.plot([0, 1], [0, 1],'r--')\n",
    "plt.xlim([0.0, 1.0])\n",
    "plt.ylim([0.0, 1.05])\n",
    "plt.xlabel('1-Specificity(False Positive Rate)')\n",
    "plt.ylabel('Sensitivity(True Positive Rate)')\n",
    "plt.title('Receiver Operating Characteristic')\n",
    "plt.legend(loc=\"lower right\")\n",
    "plt.show()   # Display"
   ]
  },
  {
   "cell_type": "code",
   "execution_count": null,
   "metadata": {},
   "outputs": [],
   "source": [
    "Catagory_knn=['Iris-Versicolor', 'Iris-Setosa', 'Iris-Virginica']\n",
    "Catagory_knn"
   ]
  },
  {
   "cell_type": "code",
   "execution_count": null,
   "metadata": {},
   "outputs": [],
   "source": [
    "colormap = np.array(['Red','green','blue'])\n",
    "fig = plt.scatter(iris['PetalLength'],iris['PetalWidth'], c=colormap[knn.labels_], s=50)"
   ]
  },
  {
   "cell_type": "code",
   "execution_count": null,
   "metadata": {},
   "outputs": [],
   "source": [
    "new_labels= knn.labels_\n",
    "fig, axes = plt.subplots(1, 2, figsize=(16,8))\n",
    "axes[0].scatter(X[:,2],X[:,3], c = y , cmap = 'gist_rainbow', edgecolor ='k', s=150)\n",
    "axes[1].scatter(X[:,2],X[:,3], c=y, cmap='jet', edgecolor='k', s=150)\n",
    "axes[0].set_title('Actual', fontsize = 18)\n",
    "axes[1].set_title('Predicted', fontsize = 18)"
   ]
  },
  {
   "cell_type": "code",
   "execution_count": null,
   "metadata": {},
   "outputs": [],
   "source": [
    "X_knn = np.array([[1 ,1, 1, 1]])\n",
    "\n",
    "X_nn_prediction = knn.predict(X_knn)\n",
    "X_knn_prediction[0]\n",
    "print(Catagory_knn[int(X_knn_prediction[0])])"
   ]
  },
  {
   "cell_type": "markdown",
   "metadata": {},
   "source": [
    "# Training a CNN model for iris dataset"
   ]
  },
  {
   "cell_type": "code",
   "execution_count": 73,
   "metadata": {},
   "outputs": [],
   "source": [
    "from tensorflow.keras import models\n",
    "from tensorflow.keras.layers import*\n",
    "\n",
    "import time"
   ]
  },
  {
   "cell_type": "code",
   "execution_count": 74,
   "metadata": {},
   "outputs": [],
   "source": [
    "model = models.Sequential()\n",
    "\n",
    "model.add(Dense(2028, activation = 'relu', input_shape = (train_data.shape[1],)))\n",
    "model.add(Dense(128, activation = 'relu'))\n",
    "model.add(Dense(3, activation = 'softmax'))"
   ]
  },
  {
   "cell_type": "code",
   "execution_count": 75,
   "metadata": {},
   "outputs": [],
   "source": [
    "model.compile(optimizer = 'adam', loss = 'sparse_categorical_crossentropy', metrics = ['acc'])"
   ]
  },
  {
   "cell_type": "code",
   "execution_count": 81,
   "metadata": {},
   "outputs": [],
   "source": [
    "#time string\n",
    "def hms_string(sec_elapsed):\n",
    "    h = int(sec_elapsed / (60 * 60))\n",
    "    m = int((sec_elapsed % (60 * 60)) / 60)\n",
    "    s = sec_elapsed % 60\n",
    "    return f\"{h}:{m}:{round(s,1)}\""
   ]
  },
  {
   "cell_type": "code",
   "execution_count": 82,
   "metadata": {},
   "outputs": [
    {
     "name": "stdout",
     "output_type": "stream",
     "text": [
      "Epoch 1/20\n",
      "4/4 [==============================] - 1s 3ms/step - loss: 0.9889 - acc: 0.3842\n",
      "Epoch 2/20\n",
      "4/4 [==============================] - 0s 3ms/step - loss: 0.5733 - acc: 0.7995\n",
      "Epoch 3/20\n",
      "4/4 [==============================] - 0s 4ms/step - loss: 0.4238 - acc: 0.8175\n",
      "Epoch 4/20\n",
      "4/4 [==============================] - 0s 3ms/step - loss: 0.3103 - acc: 0.8710\n",
      "Epoch 5/20\n",
      "4/4 [==============================] - 0s 3ms/step - loss: 0.2603 - acc: 0.9077\n",
      "Epoch 6/20\n",
      "4/4 [==============================] - 0s 3ms/step - loss: 0.2455 - acc: 0.8852\n",
      "Epoch 7/20\n",
      "4/4 [==============================] - 0s 3ms/step - loss: 0.2173 - acc: 0.9095\n",
      "Epoch 8/20\n",
      "4/4 [==============================] - 0s 4ms/step - loss: 0.2168 - acc: 0.9202\n",
      "Epoch 9/20\n",
      "4/4 [==============================] - 0s 4ms/step - loss: 0.1682 - acc: 0.9365\n",
      "Epoch 10/20\n",
      "4/4 [==============================] - 0s 4ms/step - loss: 0.1404 - acc: 0.9604\n",
      "Epoch 11/20\n",
      "4/4 [==============================] - 0s 4ms/step - loss: 0.1148 - acc: 0.9671\n",
      "Epoch 12/20\n",
      "4/4 [==============================] - 0s 4ms/step - loss: 0.1032 - acc: 0.9639\n",
      "Epoch 13/20\n",
      "4/4 [==============================] - 0s 3ms/step - loss: 0.1063 - acc: 0.9695\n",
      "Epoch 14/20\n",
      "4/4 [==============================] - 0s 5ms/step - loss: 0.0795 - acc: 0.9941\n",
      "Epoch 15/20\n",
      "4/4 [==============================] - 0s 4ms/step - loss: 0.0697 - acc: 0.9910\n",
      "Epoch 16/20\n",
      "4/4 [==============================] - 0s 4ms/step - loss: 0.0568 - acc: 0.9910\n",
      "Epoch 17/20\n",
      "4/4 [==============================] - 0s 3ms/step - loss: 0.0556 - acc: 0.9941\n",
      "Epoch 18/20\n",
      "4/4 [==============================] - 0s 4ms/step - loss: 0.0595 - acc: 0.9941\n",
      "Epoch 19/20\n",
      "4/4 [==============================] - 0s 3ms/step - loss: 0.0521 - acc: 0.9847\n",
      "Epoch 20/20\n",
      "4/4 [==============================] - 0s 4ms/step - loss: 0.0372 - acc: 0.9941\n",
      "Elapsed time: 0:0:1.2\n"
     ]
    }
   ],
   "source": [
    "start_time = time.time()\n",
    "\n",
    "#model.fit(x =img_train, y =label_train, batch_size=32, epochs=10, validation_data=(img_val, label_val))\n",
    "model.fit(train_data, train_label, epochs = 20)\n",
    "\n",
    "end_time = time.time()\n",
    "execution_time = (end_time - start_time)\n",
    "print(f\"Elapsed time: {hms_string(execution_time)}\")"
   ]
  },
  {
   "cell_type": "code",
   "execution_count": 84,
   "metadata": {},
   "outputs": [
    {
     "name": "stdout",
     "output_type": "stream",
     "text": [
      "2/2 [==============================] - 0s 3ms/step - loss: 0.3925 - acc: 0.9556\n"
     ]
    }
   ],
   "source": [
    "loss ,accuracy = model.evaluate(test_data, test_label)"
   ]
  },
  {
   "cell_type": "code",
   "execution_count": 85,
   "metadata": {},
   "outputs": [
    {
     "name": "stdout",
     "output_type": "stream",
     "text": [
      "train accuracy :  95.55555582046509\n"
     ]
    }
   ],
   "source": [
    "print(\"train accuracy : \", accuracy*100)"
   ]
  },
  {
   "cell_type": "code",
   "execution_count": 86,
   "metadata": {},
   "outputs": [
    {
     "name": "stdout",
     "output_type": "stream",
     "text": [
      "4/4 [==============================] - 0s 2ms/step - loss: 0.0371 - acc: 0.9905\n"
     ]
    }
   ],
   "source": [
    "loss ,accuracy = model.evaluate(train_data, train_label)"
   ]
  },
  {
   "cell_type": "code",
   "execution_count": 87,
   "metadata": {},
   "outputs": [
    {
     "name": "stdout",
     "output_type": "stream",
     "text": [
      "Test accuracy :  99.04761910438538\n"
     ]
    }
   ],
   "source": [
    "print(\"Test accuracy : \", accuracy*100)"
   ]
  },
  {
   "cell_type": "code",
   "execution_count": 88,
   "metadata": {},
   "outputs": [
    {
     "name": "stdout",
     "output_type": "stream",
     "text": [
      "Model: \"sequential\"\n",
      "_________________________________________________________________\n",
      "Layer (type)                 Output Shape              Param #   \n",
      "=================================================================\n",
      "dense (Dense)                (None, 2028)              10140     \n",
      "_________________________________________________________________\n",
      "dense_1 (Dense)              (None, 128)               259712    \n",
      "_________________________________________________________________\n",
      "dense_2 (Dense)              (None, 3)                 387       \n",
      "=================================================================\n",
      "Total params: 270,239\n",
      "Trainable params: 270,239\n",
      "Non-trainable params: 0\n",
      "_________________________________________________________________\n"
     ]
    }
   ],
   "source": [
    "model.summary()"
   ]
  },
  {
   "cell_type": "code",
   "execution_count": 143,
   "metadata": {},
   "outputs": [],
   "source": [
    "history = model.history.history\n",
    "\n",
    "for key in history.keys():\n",
    "    print(key)"
   ]
  },
  {
   "cell_type": "code",
   "execution_count": 93,
   "metadata": {
    "scrolled": true
   },
   "outputs": [
    {
     "name": "stderr",
     "output_type": "stream",
     "text": [
      "C:\\Users\\MirZA107\\anaconda3\\lib\\site-packages\\tensorflow\\python\\keras\\engine\\sequential.py:450: UserWarning: `model.predict_classes()` is deprecated and will be removed after 2021-01-01. Please use instead:* `np.argmax(model.predict(x), axis=-1)`,   if your model does multi-class classification   (e.g. if it uses a `softmax` last-layer activation).* `(model.predict(x) > 0.5).astype(\"int32\")`,   if your model does binary classification   (e.g. if it uses a `sigmoid` last-layer activation).\n",
      "  warnings.warn('`model.predict_classes()` is deprecated and '\n"
     ]
    },
    {
     "data": {
      "text/plain": [
       "array([2, 2, 0, 0, 1, 0, 1, 2, 0, 1, 0, 2, 0, 2, 1, 2, 1, 1, 1, 0, 1, 2,\n",
       "       0, 1, 1, 2, 2, 1, 1, 2, 1, 0, 0, 1, 1, 2, 1, 0, 0, 1, 0, 2, 0, 0,\n",
       "       2], dtype=int64)"
      ]
     },
     "execution_count": 93,
     "metadata": {},
     "output_type": "execute_result"
    }
   ],
   "source": [
    "#from tensorflow.keras.utils import to_categorical\n",
    "pred = model.predict_classes(test_data)\n",
    "pred"
   ]
  },
  {
   "cell_type": "code",
   "execution_count": 94,
   "metadata": {},
   "outputs": [
    {
     "data": {
      "text/plain": [
       "array([[2.58629734e-06, 6.45512203e-03, 9.93542314e-01],\n",
       "       [1.08021663e-06, 1.81102077e-03, 9.98187840e-01],\n",
       "       [9.99995947e-01, 3.99447072e-06, 6.27186192e-10],\n",
       "       [9.99989867e-01, 1.00948873e-05, 2.23774919e-08],\n",
       "       [2.81934685e-04, 9.99581039e-01, 1.37015624e-04],\n",
       "       [9.99929070e-01, 7.09651067e-05, 1.31234259e-08],\n",
       "       [9.12331278e-04, 8.04487944e-01, 1.94599748e-01],\n",
       "       [3.41713821e-05, 4.14109789e-02, 9.58554864e-01],\n",
       "       [9.99998689e-01, 1.25199301e-06, 1.65195679e-09],\n",
       "       [1.20476529e-03, 8.52623880e-01, 1.46171376e-01],\n",
       "       [9.99996662e-01, 3.29334080e-06, 4.02476008e-09],\n",
       "       [1.78952414e-05, 2.05442682e-02, 9.79437828e-01],\n",
       "       [9.99993920e-01, 6.04688785e-06, 8.99721353e-10],\n",
       "       [4.56892412e-05, 9.70946997e-02, 9.02859628e-01],\n",
       "       [5.49588294e-04, 9.99198139e-01, 2.52249360e-04],\n",
       "       [5.14049589e-06, 4.46622167e-03, 9.95528638e-01],\n",
       "       [5.58564279e-05, 5.68831384e-01, 4.31112707e-01],\n",
       "       [3.10714968e-04, 9.99563158e-01, 1.26060040e-04],\n",
       "       [8.80621606e-04, 9.96527970e-01, 2.59143231e-03],\n",
       "       [9.99998212e-01, 1.74081049e-06, 4.77208384e-10],\n",
       "       [1.20413635e-04, 9.98435557e-01, 1.44394685e-03],\n",
       "       [3.79359358e-06, 4.23580920e-03, 9.95760381e-01],\n",
       "       [9.99988556e-01, 1.14899176e-05, 8.93424001e-09],\n",
       "       [1.59827192e-04, 9.99788821e-01, 5.13856539e-05],\n",
       "       [1.00175064e-04, 9.99899149e-01, 7.72012356e-07],\n",
       "       [2.73490627e-06, 3.43354582e-03, 9.96563733e-01],\n",
       "       [1.81083053e-07, 4.17302741e-04, 9.99582469e-01],\n",
       "       [6.77602133e-04, 8.65252137e-01, 1.34070292e-01],\n",
       "       [3.11191136e-04, 9.89987791e-01, 9.70106199e-03],\n",
       "       [1.19762764e-04, 1.24868557e-01, 8.75011623e-01],\n",
       "       [7.32309767e-04, 9.95646417e-01, 3.62121756e-03],\n",
       "       [9.99998569e-01, 1.45010188e-06, 2.26829511e-09],\n",
       "       [9.99528408e-01, 4.69170540e-04, 2.39719725e-06],\n",
       "       [2.23865802e-03, 9.91307080e-01, 6.45423401e-03],\n",
       "       [1.28419662e-03, 8.07629228e-01, 1.91086546e-01],\n",
       "       [1.49426955e-06, 3.12300096e-03, 9.96875525e-01],\n",
       "       [2.03735312e-03, 9.82163548e-01, 1.57990586e-02],\n",
       "       [9.99993086e-01, 6.89960234e-06, 3.20009574e-10],\n",
       "       [9.99899268e-01, 1.00754638e-04, 3.09173138e-11],\n",
       "       [1.08327263e-03, 9.86638188e-01, 1.22785121e-02],\n",
       "       [9.99997616e-01, 2.39884844e-06, 1.24285984e-10],\n",
       "       [4.88291380e-06, 8.52033217e-03, 9.91474748e-01],\n",
       "       [9.99992967e-01, 7.06712899e-06, 1.58179581e-09],\n",
       "       [9.99993682e-01, 6.36587902e-06, 2.16565779e-10],\n",
       "       [2.40954141e-05, 3.20722423e-02, 9.67903674e-01]], dtype=float32)"
      ]
     },
     "execution_count": 94,
     "metadata": {},
     "output_type": "execute_result"
    }
   ],
   "source": [
    "model.predict(test_data)"
   ]
  },
  {
   "cell_type": "code",
   "execution_count": 95,
   "metadata": {},
   "outputs": [
    {
     "name": "stdout",
     "output_type": "stream",
     "text": [
      "0\n"
     ]
    }
   ],
   "source": [
    "classes = np.argmax(pred, axis = 0)\n",
    "print(classes)"
   ]
  },
  {
   "cell_type": "code",
   "execution_count": null,
   "metadata": {},
   "outputs": [],
   "source": []
  },
  {
   "cell_type": "code",
   "execution_count": null,
   "metadata": {},
   "outputs": [],
   "source": []
  },
  {
   "cell_type": "code",
   "execution_count": null,
   "metadata": {},
   "outputs": [],
   "source": []
  }
 ],
 "metadata": {
  "kernelspec": {
   "display_name": "Python 3",
   "language": "python",
   "name": "python3"
  },
  "language_info": {
   "codemirror_mode": {
    "name": "ipython",
    "version": 3
   },
   "file_extension": ".py",
   "mimetype": "text/x-python",
   "name": "python",
   "nbconvert_exporter": "python",
   "pygments_lexer": "ipython3",
   "version": "3.8.5"
  }
 },
 "nbformat": 4,
 "nbformat_minor": 4
}
